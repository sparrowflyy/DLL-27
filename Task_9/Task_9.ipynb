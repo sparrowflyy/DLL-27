{
 "cells": [
  {
   "cell_type": "code",
   "execution_count": 1,
   "id": "4b3fb35e",
   "metadata": {},
   "outputs": [],
   "source": [
    "import matplotlib.pyplot as plt\n",
    "import torch\n",
    "from torch import nn\n",
    "import torchvision as tv\n",
    "from torchsummary import summary\n",
    "import time"
   ]
  },
  {
   "cell_type": "code",
   "execution_count": 2,
   "id": "eb1c27a1",
   "metadata": {},
   "outputs": [
    {
     "data": {
      "text/plain": [
       "'cuda'"
      ]
     },
     "execution_count": 2,
     "metadata": {},
     "output_type": "execute_result"
    }
   ],
   "source": [
    "device = 'cuda' if torch.cuda.is_available() else 'cpu'\n",
    "device"
   ]
  },
  {
   "cell_type": "code",
   "execution_count": 3,
   "id": "46fbcf25",
   "metadata": {},
   "outputs": [],
   "source": [
    "BATCH_SIZE = 256\n",
    "transforms = tv.transforms.Compose([\n",
    "    tv.transforms.ToTensor()\n",
    "])\n",
    "train_dataset = tv.datasets.MNIST ('.', train=True, transform=transforms, download=True)\n",
    "test_dataset = tv.datasets.MNIST ('.', train=False, transform=transforms, download=True)\n",
    "train_iter = torch.utils.data.DataLoader(train_dataset, batch_size=BATCH_SIZE)\n",
    "test_iter = torch.utils.data.DataLoader(test_dataset, batch_size=BATCH_SIZE)"
   ]
  },
  {
   "cell_type": "code",
   "execution_count": 4,
   "id": "271f4595",
   "metadata": {},
   "outputs": [
    {
     "data": {
      "text/plain": [
       "(tensor([[[0.0000, 0.0000, 0.0000, 0.0000, 0.0000, 0.0000, 0.0000, 0.0000,\n",
       "           0.0000, 0.0000, 0.0000, 0.0000, 0.0000, 0.0000, 0.0000, 0.0000,\n",
       "           0.0000, 0.0000, 0.0000, 0.0000, 0.0000, 0.0000, 0.0000, 0.0000,\n",
       "           0.0000, 0.0000, 0.0000, 0.0000],\n",
       "          [0.0000, 0.0000, 0.0000, 0.0000, 0.0000, 0.0000, 0.0000, 0.0000,\n",
       "           0.0000, 0.0000, 0.0000, 0.0000, 0.0000, 0.0000, 0.0000, 0.0000,\n",
       "           0.0000, 0.0000, 0.0000, 0.0000, 0.0000, 0.0000, 0.0000, 0.0000,\n",
       "           0.0000, 0.0000, 0.0000, 0.0000],\n",
       "          [0.0000, 0.0000, 0.0000, 0.0000, 0.0000, 0.0000, 0.0000, 0.0000,\n",
       "           0.0000, 0.0000, 0.0000, 0.0000, 0.0000, 0.0000, 0.0000, 0.0000,\n",
       "           0.0000, 0.0000, 0.0000, 0.0000, 0.0000, 0.0000, 0.0000, 0.0000,\n",
       "           0.0000, 0.0000, 0.0000, 0.0000],\n",
       "          [0.0000, 0.0000, 0.0000, 0.0000, 0.0000, 0.0000, 0.0000, 0.0000,\n",
       "           0.0000, 0.0000, 0.0000, 0.0000, 0.0000, 0.0000, 0.0000, 0.0000,\n",
       "           0.0000, 0.0000, 0.0000, 0.0000, 0.0000, 0.0000, 0.0000, 0.0000,\n",
       "           0.0000, 0.0000, 0.0000, 0.0000],\n",
       "          [0.0000, 0.0000, 0.0000, 0.0000, 0.0000, 0.0000, 0.0000, 0.0000,\n",
       "           0.0000, 0.0000, 0.0000, 0.0000, 0.0000, 0.0000, 0.0000, 0.0000,\n",
       "           0.0000, 0.0000, 0.0000, 0.0000, 0.0000, 0.0000, 0.0000, 0.0000,\n",
       "           0.0000, 0.0000, 0.0000, 0.0000],\n",
       "          [0.0000, 0.0000, 0.0000, 0.0000, 0.0000, 0.0000, 0.0000, 0.0000,\n",
       "           0.0000, 0.0000, 0.0000, 0.0000, 0.0118, 0.0706, 0.0706, 0.0706,\n",
       "           0.4941, 0.5333, 0.6863, 0.1020, 0.6510, 1.0000, 0.9686, 0.4980,\n",
       "           0.0000, 0.0000, 0.0000, 0.0000],\n",
       "          [0.0000, 0.0000, 0.0000, 0.0000, 0.0000, 0.0000, 0.0000, 0.0000,\n",
       "           0.1176, 0.1412, 0.3686, 0.6039, 0.6667, 0.9922, 0.9922, 0.9922,\n",
       "           0.9922, 0.9922, 0.8824, 0.6745, 0.9922, 0.9490, 0.7647, 0.2510,\n",
       "           0.0000, 0.0000, 0.0000, 0.0000],\n",
       "          [0.0000, 0.0000, 0.0000, 0.0000, 0.0000, 0.0000, 0.0000, 0.1922,\n",
       "           0.9333, 0.9922, 0.9922, 0.9922, 0.9922, 0.9922, 0.9922, 0.9922,\n",
       "           0.9922, 0.9843, 0.3647, 0.3216, 0.3216, 0.2196, 0.1529, 0.0000,\n",
       "           0.0000, 0.0000, 0.0000, 0.0000],\n",
       "          [0.0000, 0.0000, 0.0000, 0.0000, 0.0000, 0.0000, 0.0000, 0.0706,\n",
       "           0.8588, 0.9922, 0.9922, 0.9922, 0.9922, 0.9922, 0.7765, 0.7137,\n",
       "           0.9686, 0.9451, 0.0000, 0.0000, 0.0000, 0.0000, 0.0000, 0.0000,\n",
       "           0.0000, 0.0000, 0.0000, 0.0000],\n",
       "          [0.0000, 0.0000, 0.0000, 0.0000, 0.0000, 0.0000, 0.0000, 0.0000,\n",
       "           0.3137, 0.6118, 0.4196, 0.9922, 0.9922, 0.8039, 0.0431, 0.0000,\n",
       "           0.1686, 0.6039, 0.0000, 0.0000, 0.0000, 0.0000, 0.0000, 0.0000,\n",
       "           0.0000, 0.0000, 0.0000, 0.0000],\n",
       "          [0.0000, 0.0000, 0.0000, 0.0000, 0.0000, 0.0000, 0.0000, 0.0000,\n",
       "           0.0000, 0.0549, 0.0039, 0.6039, 0.9922, 0.3529, 0.0000, 0.0000,\n",
       "           0.0000, 0.0000, 0.0000, 0.0000, 0.0000, 0.0000, 0.0000, 0.0000,\n",
       "           0.0000, 0.0000, 0.0000, 0.0000],\n",
       "          [0.0000, 0.0000, 0.0000, 0.0000, 0.0000, 0.0000, 0.0000, 0.0000,\n",
       "           0.0000, 0.0000, 0.0000, 0.5451, 0.9922, 0.7451, 0.0078, 0.0000,\n",
       "           0.0000, 0.0000, 0.0000, 0.0000, 0.0000, 0.0000, 0.0000, 0.0000,\n",
       "           0.0000, 0.0000, 0.0000, 0.0000],\n",
       "          [0.0000, 0.0000, 0.0000, 0.0000, 0.0000, 0.0000, 0.0000, 0.0000,\n",
       "           0.0000, 0.0000, 0.0000, 0.0431, 0.7451, 0.9922, 0.2745, 0.0000,\n",
       "           0.0000, 0.0000, 0.0000, 0.0000, 0.0000, 0.0000, 0.0000, 0.0000,\n",
       "           0.0000, 0.0000, 0.0000, 0.0000],\n",
       "          [0.0000, 0.0000, 0.0000, 0.0000, 0.0000, 0.0000, 0.0000, 0.0000,\n",
       "           0.0000, 0.0000, 0.0000, 0.0000, 0.1373, 0.9451, 0.8824, 0.6275,\n",
       "           0.4235, 0.0039, 0.0000, 0.0000, 0.0000, 0.0000, 0.0000, 0.0000,\n",
       "           0.0000, 0.0000, 0.0000, 0.0000],\n",
       "          [0.0000, 0.0000, 0.0000, 0.0000, 0.0000, 0.0000, 0.0000, 0.0000,\n",
       "           0.0000, 0.0000, 0.0000, 0.0000, 0.0000, 0.3176, 0.9412, 0.9922,\n",
       "           0.9922, 0.4667, 0.0980, 0.0000, 0.0000, 0.0000, 0.0000, 0.0000,\n",
       "           0.0000, 0.0000, 0.0000, 0.0000],\n",
       "          [0.0000, 0.0000, 0.0000, 0.0000, 0.0000, 0.0000, 0.0000, 0.0000,\n",
       "           0.0000, 0.0000, 0.0000, 0.0000, 0.0000, 0.0000, 0.1765, 0.7294,\n",
       "           0.9922, 0.9922, 0.5882, 0.1059, 0.0000, 0.0000, 0.0000, 0.0000,\n",
       "           0.0000, 0.0000, 0.0000, 0.0000],\n",
       "          [0.0000, 0.0000, 0.0000, 0.0000, 0.0000, 0.0000, 0.0000, 0.0000,\n",
       "           0.0000, 0.0000, 0.0000, 0.0000, 0.0000, 0.0000, 0.0000, 0.0627,\n",
       "           0.3647, 0.9882, 0.9922, 0.7333, 0.0000, 0.0000, 0.0000, 0.0000,\n",
       "           0.0000, 0.0000, 0.0000, 0.0000],\n",
       "          [0.0000, 0.0000, 0.0000, 0.0000, 0.0000, 0.0000, 0.0000, 0.0000,\n",
       "           0.0000, 0.0000, 0.0000, 0.0000, 0.0000, 0.0000, 0.0000, 0.0000,\n",
       "           0.0000, 0.9765, 0.9922, 0.9765, 0.2510, 0.0000, 0.0000, 0.0000,\n",
       "           0.0000, 0.0000, 0.0000, 0.0000],\n",
       "          [0.0000, 0.0000, 0.0000, 0.0000, 0.0000, 0.0000, 0.0000, 0.0000,\n",
       "           0.0000, 0.0000, 0.0000, 0.0000, 0.0000, 0.0000, 0.1804, 0.5098,\n",
       "           0.7176, 0.9922, 0.9922, 0.8118, 0.0078, 0.0000, 0.0000, 0.0000,\n",
       "           0.0000, 0.0000, 0.0000, 0.0000],\n",
       "          [0.0000, 0.0000, 0.0000, 0.0000, 0.0000, 0.0000, 0.0000, 0.0000,\n",
       "           0.0000, 0.0000, 0.0000, 0.0000, 0.1529, 0.5804, 0.8980, 0.9922,\n",
       "           0.9922, 0.9922, 0.9804, 0.7137, 0.0000, 0.0000, 0.0000, 0.0000,\n",
       "           0.0000, 0.0000, 0.0000, 0.0000],\n",
       "          [0.0000, 0.0000, 0.0000, 0.0000, 0.0000, 0.0000, 0.0000, 0.0000,\n",
       "           0.0000, 0.0000, 0.0941, 0.4471, 0.8667, 0.9922, 0.9922, 0.9922,\n",
       "           0.9922, 0.7882, 0.3059, 0.0000, 0.0000, 0.0000, 0.0000, 0.0000,\n",
       "           0.0000, 0.0000, 0.0000, 0.0000],\n",
       "          [0.0000, 0.0000, 0.0000, 0.0000, 0.0000, 0.0000, 0.0000, 0.0000,\n",
       "           0.0902, 0.2588, 0.8353, 0.9922, 0.9922, 0.9922, 0.9922, 0.7765,\n",
       "           0.3176, 0.0078, 0.0000, 0.0000, 0.0000, 0.0000, 0.0000, 0.0000,\n",
       "           0.0000, 0.0000, 0.0000, 0.0000],\n",
       "          [0.0000, 0.0000, 0.0000, 0.0000, 0.0000, 0.0000, 0.0706, 0.6706,\n",
       "           0.8588, 0.9922, 0.9922, 0.9922, 0.9922, 0.7647, 0.3137, 0.0353,\n",
       "           0.0000, 0.0000, 0.0000, 0.0000, 0.0000, 0.0000, 0.0000, 0.0000,\n",
       "           0.0000, 0.0000, 0.0000, 0.0000],\n",
       "          [0.0000, 0.0000, 0.0000, 0.0000, 0.2157, 0.6745, 0.8863, 0.9922,\n",
       "           0.9922, 0.9922, 0.9922, 0.9569, 0.5216, 0.0431, 0.0000, 0.0000,\n",
       "           0.0000, 0.0000, 0.0000, 0.0000, 0.0000, 0.0000, 0.0000, 0.0000,\n",
       "           0.0000, 0.0000, 0.0000, 0.0000],\n",
       "          [0.0000, 0.0000, 0.0000, 0.0000, 0.5333, 0.9922, 0.9922, 0.9922,\n",
       "           0.8314, 0.5294, 0.5176, 0.0627, 0.0000, 0.0000, 0.0000, 0.0000,\n",
       "           0.0000, 0.0000, 0.0000, 0.0000, 0.0000, 0.0000, 0.0000, 0.0000,\n",
       "           0.0000, 0.0000, 0.0000, 0.0000],\n",
       "          [0.0000, 0.0000, 0.0000, 0.0000, 0.0000, 0.0000, 0.0000, 0.0000,\n",
       "           0.0000, 0.0000, 0.0000, 0.0000, 0.0000, 0.0000, 0.0000, 0.0000,\n",
       "           0.0000, 0.0000, 0.0000, 0.0000, 0.0000, 0.0000, 0.0000, 0.0000,\n",
       "           0.0000, 0.0000, 0.0000, 0.0000],\n",
       "          [0.0000, 0.0000, 0.0000, 0.0000, 0.0000, 0.0000, 0.0000, 0.0000,\n",
       "           0.0000, 0.0000, 0.0000, 0.0000, 0.0000, 0.0000, 0.0000, 0.0000,\n",
       "           0.0000, 0.0000, 0.0000, 0.0000, 0.0000, 0.0000, 0.0000, 0.0000,\n",
       "           0.0000, 0.0000, 0.0000, 0.0000],\n",
       "          [0.0000, 0.0000, 0.0000, 0.0000, 0.0000, 0.0000, 0.0000, 0.0000,\n",
       "           0.0000, 0.0000, 0.0000, 0.0000, 0.0000, 0.0000, 0.0000, 0.0000,\n",
       "           0.0000, 0.0000, 0.0000, 0.0000, 0.0000, 0.0000, 0.0000, 0.0000,\n",
       "           0.0000, 0.0000, 0.0000, 0.0000]]]),\n",
       " 5)"
      ]
     },
     "execution_count": 4,
     "metadata": {},
     "output_type": "execute_result"
    }
   ],
   "source": [
    "train_dataset[0]"
   ]
  },
  {
   "cell_type": "code",
   "execution_count": 5,
   "id": "33cd0f00",
   "metadata": {},
   "outputs": [
    {
     "name": "stdout",
     "output_type": "stream",
     "text": [
      "['0 - zero', '1 - one', '2 - two', '3 - three', '4 - four', '5 - five', '6 - six', '7 - seven', '8 - eight', '9 - nine']\n",
      "10  classes\n"
     ]
    }
   ],
   "source": [
    "print(train_dataset.classes)\n",
    "print(len(train_dataset.classes), \" classes\")"
   ]
  },
  {
   "cell_type": "code",
   "execution_count": 6,
   "id": "2d7649c1",
   "metadata": {},
   "outputs": [
    {
     "data": {
      "image/png": "[encoded data removed]",
      "text/plain": [
       "<Figure size 640x480 with 1 Axes>"
      ]
     },
     "metadata": {},
     "output_type": "display_data"
    }
   ],
   "source": [
    "plt.imshow(train_dataset[0][0][0].numpy().reshape(28, 28));"
   ]
  },
  {
   "cell_type": "markdown",
   "id": "091a9907",
   "metadata": {},
   "source": [
    "# Create Lenet network"
   ]
  },
  {
   "cell_type": "code",
   "execution_count": 7,
   "id": "ed4028bd",
   "metadata": {},
   "outputs": [],
   "source": [
    "from torch import nn\n",
    "import torch.nn.functional as F\n",
    "\n",
    "class LeNetFeatExtractor(nn.Module):\n",
    "    def __init__(self):\n",
    "        super(LeNetFeatExtractor, self).__init__()\n",
    "        self.conv1 = nn.Conv2d(1, 128, 3)\n",
    "        self.conv2 = nn.Conv2d(128, 16, 3)\n",
    "\n",
    "    def forward(self, x):\n",
    "        x = F.max_pool2d(F.relu(self.conv1(x)), (2, 2))\n",
    "        x = F.max_pool2d(F.relu(self.conv2(x)), 2)\n",
    "        return x\n",
    "\n",
    "class LeNetClassifier(nn.Module):\n",
    "    def __init__(self):\n",
    "        super(LeNetClassifier, self).__init__()\n",
    "        self.fc1 = nn.Linear(16 * 5 * 5, 120)\n",
    "        self.fc2 = nn.Linear(120, 84)\n",
    "        self.fc3 = nn.Linear(84, 10)\n",
    "\n",
    "    def forward(self, x):\n",
    "        x = torch.flatten(x,1)\n",
    "        x = F.relu(self.fc1(x))\n",
    "        x = F.relu(self.fc2(x))\n",
    "        x = self.fc3(x)\n",
    "        return x\n",
    "\n",
    "class LeNet(nn.Module):\n",
    "    def __init__(self):\n",
    "        super(LeNet, self).__init__()\n",
    "        self.feat = LeNetFeatExtractor()\n",
    "        self.classifer = LeNetClassifier()\n",
    "\n",
    "    def forward(self, x):\n",
    "        x = self.feat(x)\n",
    "        x = self.classifer(x)\n",
    "        return x"
   ]
  },
  {
   "cell_type": "code",
   "execution_count": 8,
   "id": "768dcc9c",
   "metadata": {},
   "outputs": [],
   "source": [
    "model = LeNet().to(device)"
   ]
  },
  {
   "cell_type": "code",
   "execution_count": 9,
   "id": "7a719e0c",
   "metadata": {},
   "outputs": [
    {
     "name": "stdout",
     "output_type": "stream",
     "text": [
      "----------------------------------------------------------------\n",
      "        Layer (type)               Output Shape         Param #\n",
      "================================================================\n",
      "            Conv2d-1          [-1, 128, 26, 26]           1,280\n",
      "            Conv2d-2           [-1, 16, 11, 11]          18,448\n",
      "LeNetFeatExtractor-3             [-1, 16, 5, 5]               0\n",
      "            Linear-4                  [-1, 120]          48,120\n",
      "            Linear-5                   [-1, 84]          10,164\n",
      "            Linear-6                   [-1, 10]             850\n",
      "   LeNetClassifier-7                   [-1, 10]               0\n",
      "================================================================\n",
      "Total params: 78,862\n",
      "Trainable params: 78,862\n",
      "Non-trainable params: 0\n",
      "----------------------------------------------------------------\n",
      "Input size (MB): 0.00\n",
      "Forward/backward pass size (MB): 0.68\n",
      "Params size (MB): 0.30\n",
      "Estimated Total Size (MB): 0.98\n",
      "----------------------------------------------------------------\n"
     ]
    }
   ],
   "source": [
    "\n",
    "from torchsummary import summary\n",
    "\n",
    "summary(model, input_size=(1, 28, 28), device=device)"
   ]
  },
  {
   "cell_type": "code",
   "execution_count": 10,
   "id": "b6a54895",
   "metadata": {},
   "outputs": [],
   "source": [
    "def evaluate_accuracy(data_iter, net, device):\n",
    "    net.eval()\n",
    "    acc_sum, n = torch.Tensor([0]).to(device), 0\n",
    "    for X, y in data_iter:\n",
    "        X, y = X.to(device), y.to(device)\n",
    "        acc_sum += (net(X).argmax(axis=1) == y).sum()\n",
    "        n += y.shape[0]\n",
    "    net.train()\n",
    "    return acc_sum.item() / n\n",
    "\n",
    "def train(net, train_iter, test_iter, loss, optimizer, num_epochs, device):\n",
    "\n",
    "    for epoch in range(num_epochs):\n",
    "        train_l_sum, train_acc_sum, n, start = 0.0, 0.0, 0, time.time()\n",
    "    \n",
    "        for X, y in train_iter:\n",
    "            X, y = X.to(device), y.to(device)\n",
    "            optimizer.zero_grad()\n",
    "            y_hat = net(X)\n",
    "            l = loss(y_hat, y)\n",
    "            l.backward()\n",
    "            optimizer.step()\n",
    "            train_l_sum += l.item()\n",
    "            train_acc_sum += (y_hat.argmax(axis=1) == y).sum().item()\n",
    "            n += y.shape[0]\n",
    "    \n",
    "        test_acc = evaluate_accuracy(test_iter, net, device)\n",
    "        print(f'epoch {epoch + 1}, loss {train_l_sum / n:.4f}, train acc {train_acc_sum / n:.3f}' \\\n",
    "              f', test acc {test_acc:.3f}, time {time.time() - start:.1f} sec')\n"
   ]
  },
  {
   "cell_type": "code",
   "execution_count": 11,
   "id": "e0d17444",
   "metadata": {},
   "outputs": [],
   "source": [
    "loss = torch.nn.CrossEntropyLoss()\n",
    "lr, num_epochs = 0.001, 5\n",
    "trainer = torch.optim.Adam(model.parameters(), lr=lr)"
   ]
  },
  {
   "cell_type": "code",
   "execution_count": 12,
   "id": "4f944bc5",
   "metadata": {},
   "outputs": [
    {
     "name": "stdout",
     "output_type": "stream",
     "text": [
      "epoch 1, loss 0.0016, train acc 0.878, test acc 0.958, time 9.6 sec\n",
      "epoch 2, loss 0.0004, train acc 0.969, test acc 0.976, time 10.8 sec\n",
      "epoch 3, loss 0.0003, train acc 0.979, test acc 0.982, time 10.4 sec\n",
      "epoch 4, loss 0.0002, train acc 0.984, test acc 0.984, time 10.5 sec\n",
      "epoch 5, loss 0.0002, train acc 0.987, test acc 0.984, time 10.5 sec\n"
     ]
    }
   ],
   "source": [
    "train(model, train_iter, test_iter, loss, trainer, num_epochs, device)"
   ]
  },
  {
   "cell_type": "code",
   "execution_count": 13,
   "id": "21de3435",
   "metadata": {},
   "outputs": [
    {
     "data": {
      "text/plain": [
       "LeNet(\n",
       "  (feat): LeNetFeatExtractor(\n",
       "    (conv1): Conv2d(1, 128, kernel_size=(3, 3), stride=(1, 1))\n",
       "    (conv2): Conv2d(128, 16, kernel_size=(3, 3), stride=(1, 1))\n",
       "  )\n",
       "  (classifer): LeNetClassifier(\n",
       "    (fc1): Linear(in_features=400, out_features=120, bias=True)\n",
       "    (fc2): Linear(in_features=120, out_features=84, bias=True)\n",
       "    (fc3): Linear(in_features=84, out_features=10, bias=True)\n",
       "  )\n",
       ")"
      ]
     },
     "execution_count": 13,
     "metadata": {},
     "output_type": "execute_result"
    }
   ],
   "source": [
    "model.eval()"
   ]
  },
  {
   "cell_type": "code",
   "execution_count": 92,
   "id": "5f82e6d1",
   "metadata": {},
   "outputs": [
    {
     "name": "stdout",
     "output_type": "stream",
     "text": [
      "Label 5\n"
     ]
    },
    {
     "data": {
      "image/png": "[encoded data removed]",
      "text/plain": [
       "<Figure size 2000x2000 with 1 Axes>"
      ]
     },
     "metadata": {},
     "output_type": "display_data"
    }
   ],
   "source": [
    "orig_img = train_dataset[0][0]\n",
    "orig_label = train_dataset[0][1]\n",
    "plt.imshow(orig_img[0].numpy());\n",
    "print('Label', orig_label)"
   ]
  },
  {
   "cell_type": "code",
   "execution_count": 93,
   "id": "4c921753",
   "metadata": {},
   "outputs": [
    {
     "data": {
      "text/plain": [
       "torch.Size([1, 1, 28, 28])"
      ]
     },
     "execution_count": 93,
     "metadata": {},
     "output_type": "execute_result"
    }
   ],
   "source": [
    "orig_img = orig_img.unsqueeze(0)\n",
    "orig_img.shape"
   ]
  },
  {
   "cell_type": "code",
   "execution_count": 94,
   "id": "4340390d",
   "metadata": {},
   "outputs": [
    {
     "data": {
      "text/plain": [
       "5"
      ]
     },
     "execution_count": 94,
     "metadata": {},
     "output_type": "execute_result"
    }
   ],
   "source": [
    "orig_label"
   ]
  },
  {
   "cell_type": "code",
   "execution_count": 95,
   "id": "17261bb8",
   "metadata": {},
   "outputs": [
    {
     "data": {
      "text/plain": [
       "tensor(5, device='cuda:0')"
      ]
     },
     "execution_count": 95,
     "metadata": {},
     "output_type": "execute_result"
    }
   ],
   "source": [
    "orig_img = orig_img.to(device)\n",
    "model(orig_img).argmax()\n"
   ]
  },
  {
   "cell_type": "code",
   "execution_count": null,
   "id": "b03cb68d",
   "metadata": {},
   "outputs": [],
   "source": []
  },
  {
   "cell_type": "code",
   "execution_count": 96,
   "id": "92990ee0",
   "metadata": {},
   "outputs": [],
   "source": [
    "orig_img = orig_img.squeeze(0)"
   ]
  },
  {
   "cell_type": "code",
   "execution_count": 97,
   "id": "7972f431",
   "metadata": {},
   "outputs": [
    {
     "data": {
      "text/plain": [
       "[LeNetFeatExtractor(\n",
       "   (conv1): Conv2d(1, 128, kernel_size=(3, 3), stride=(1, 1))\n",
       "   (conv2): Conv2d(128, 16, kernel_size=(3, 3), stride=(1, 1))\n",
       " ),\n",
       " Conv2d(1, 128, kernel_size=(3, 3), stride=(1, 1)),\n",
       " Conv2d(128, 16, kernel_size=(3, 3), stride=(1, 1))]"
      ]
     },
     "execution_count": 97,
     "metadata": {},
     "output_type": "execute_result"
    }
   ],
   "source": [
    "modulelist = list(model.feat.modules())\n",
    "modulelist"
   ]
  },
  {
   "cell_type": "code",
   "execution_count": 98,
   "id": "819b5863",
   "metadata": {},
   "outputs": [],
   "source": [
    "def to_grayscale(image):\n",
    "    image = torch.mean(image, dim=0)\n",
    "    return image\n",
    "def layer_outputs(image):\n",
    "    outputs = []\n",
    "    names = []\n",
    "    for layer in modulelist[1:]:\n",
    "        image = layer(image)\n",
    "        outputs.append(image)\n",
    "        names.append(str(layer))\n",
    "        \n",
    "    output_im = []\n",
    "    for i in outputs:\n",
    "        i = i.squeeze(0)\n",
    "        temp = to_grayscale(i)\n",
    "        output_im.append(temp.data.cpu().numpy())\n",
    "        \n",
    "    fig = plt.figure(figsize=(20,30))\n",
    "\n",
    "\n",
    "    for i in range(len(output_im)):\n",
    "        a = fig.add_subplot(8,4,i+1)\n",
    "        imgplot = plt.imshow(output_im[i], cmap='gray')\n",
    "        # plt.axis('off')\n",
    "        a.set_title(names[i].partition('(')[0], fontsize=30)"
   ]
  },
  {
   "cell_type": "code",
   "execution_count": 99,
   "id": "666fc13a",
   "metadata": {},
   "outputs": [
    {
     "data": {
      "image/png": "[encoded data removed]",
      "text/plain": [
       "<Figure size 2000x3000 with 2 Axes>"
      ]
     },
     "metadata": {},
     "output_type": "display_data"
    }
   ],
   "source": [
    "layer_outputs(orig_img)"
   ]
  },
  {
   "cell_type": "code",
   "execution_count": 100,
   "id": "35b0ea16",
   "metadata": {},
   "outputs": [],
   "source": [
    "import numpy as np\n",
    "def make_saliency_map(img, label):\n",
    "    image = img.unsqueeze(0).cuda()\n",
    "    image.requires_grad_()\n",
    "    output = model.forward(image)\n",
    "    output[0][label].backward()\n",
    "    # print(output[0][label])\n",
    "\n",
    "    grads = image.grad.data.clamp(min=0)\n",
    "    grads.squeeze_()\n",
    "    print(grads.shape)\n",
    "    grads = grads.cpu()\n",
    "    \n",
    "    true_image = img.squeeze(0)\n",
    "\n",
    "    fig = plt.figure()\n",
    "    plt.rcParams[\"figure.figsize\"] = (20, 20)\n",
    "\n",
    "\n",
    "    a = fig.add_subplot(1,2,1)\n",
    "    imgplot = plt.imshow(true_image.cpu())\n",
    "    plt.title('Original Image')\n",
    "    plt.axis('off')\n",
    "\n",
    "    a = fig.add_subplot(1,2,2)\n",
    "    imgplot = plt.imshow(grads)\n",
    "    plt.axis('off') \n",
    "    plt.title('Saliency Map')"
   ]
  },
  {
   "cell_type": "code",
   "execution_count": 101,
   "id": "14014c57",
   "metadata": {
    "scrolled": false
   },
   "outputs": [
    {
     "name": "stdout",
     "output_type": "stream",
     "text": [
      "torch.Size([28, 28])\n"
     ]
    },
    {
     "data": {
      "image/png": "[encoded data removed]",
      "text/plain": [
       "<Figure size 2000x2000 with 2 Axes>"
      ]
     },
     "metadata": {},
     "output_type": "display_data"
    }
   ],
   "source": [
    "make_saliency_map(orig_img, orig_label)"
   ]
  },
  {
   "cell_type": "markdown",
   "id": "5670aeae",
   "metadata": {},
   "source": [
    "# Noise which fakes 5 as 3"
   ]
  },
  {
   "cell_type": "code",
   "execution_count": 102,
   "id": "b6625599",
   "metadata": {},
   "outputs": [
    {
     "data": {
      "text/plain": [
       "torch.Size([1, 1, 28, 28])"
      ]
     },
     "execution_count": 102,
     "metadata": {},
     "output_type": "execute_result"
    },
    {
     "data": {
      "image/png": "[encoded data removed]",
      "text/plain": [
       "<Figure size 600x400 with 1 Axes>"
      ]
     },
     "metadata": {},
     "output_type": "display_data"
    }
   ],
   "source": [
    "noise = torch.zeros((1, 28, 28))\n",
    "plt.figure(figsize=(6, 4))\n",
    "plt.imshow(noise[0].numpy())\n",
    "noise = noise.unsqueeze(0).to(device)\n",
    "noise.shape"
   ]
  },
  {
   "cell_type": "code",
   "execution_count": 103,
   "id": "6b2aecd4",
   "metadata": {},
   "outputs": [],
   "source": [
    "\n",
    "lr, num_epochs = 0.001, 10\n",
    "trainer = torch.optim.LBFGS([noise.requires_grad_()])"
   ]
  },
  {
   "cell_type": "code",
   "execution_count": 105,
   "id": "d3284c3f",
   "metadata": {},
   "outputs": [
    {
     "data": {
      "text/plain": [
       "torch.Size([1, 1, 28, 28])"
      ]
     },
     "execution_count": 105,
     "metadata": {},
     "output_type": "execute_result"
    }
   ],
   "source": [
    "orig_img = orig_img.unsqueeze(0).to(device)\n",
    "orig_img.shape"
   ]
  },
  {
   "cell_type": "code",
   "execution_count": 106,
   "id": "6a575077",
   "metadata": {},
   "outputs": [],
   "source": [
    "loss = nn.CrossEntropyLoss()"
   ]
  },
  {
   "cell_type": "code",
   "execution_count": 107,
   "id": "72726adb",
   "metadata": {},
   "outputs": [
    {
     "data": {
      "text/plain": [
       "tensor([[0., 0., 0., 1., 0., 0., 0., 0., 0., 0.]])"
      ]
     },
     "execution_count": 107,
     "metadata": {},
     "output_type": "execute_result"
    }
   ],
   "source": [
    "fake_label = torch.zeros((1, 10))\n",
    "fake_label[0][3] = 1\n",
    "fake_label"
   ]
  },
  {
   "cell_type": "code",
   "execution_count": 108,
   "id": "07b03fbb",
   "metadata": {},
   "outputs": [],
   "source": [
    "fake_label = fake_label.to(device)"
   ]
  },
  {
   "cell_type": "code",
   "execution_count": 109,
   "id": "835cb19d",
   "metadata": {},
   "outputs": [
    {
     "name": "stdout",
     "output_type": "stream",
     "text": [
      "1.0617313385009766\n",
      "0.9025490880012512\n",
      "0.020580321550369263\n",
      "0.016881927847862244\n",
      "0.006443202495574951\n",
      "0.0038733473047614098\n",
      "0.0015463787131011486\n",
      "0.0007657456444576383\n",
      "0.0003494605771265924\n",
      "0.0001967951684491709\n",
      "9.154854342341423e-05\n",
      "5.3881147323409095e-05\n",
      "2.932505594799295e-05\n",
      "1.5020257706055418e-05\n",
      "7.629365427419543e-06\n",
      "2.7418097943154862e-06\n",
      "1.6689286894688848e-06\n",
      "5.960462772236497e-07\n",
      "3.576278118089249e-07\n",
      "1.1920928244535389e-07\n",
      "1.1920928244535389e-07\n",
      "-0.0\n",
      "-0.0\n",
      "-0.0\n",
      "-0.0\n",
      "-0.0\n",
      "-0.0\n",
      "-0.0\n",
      "-0.0\n",
      "-0.0\n"
     ]
    }
   ],
   "source": [
    "model.eval()\n",
    "for i in range(num_epochs):\n",
    "    def closure():\n",
    "        with torch.no_grad():\n",
    "            noise.clamp_(0, 1)\n",
    "        trainer.zero_grad()\n",
    "        img = orig_img + noise\n",
    "        label = model(img)\n",
    "        l = loss(label, fake_label)\n",
    "        l.backward()\n",
    "        print(l.item())\n",
    "        return l\n",
    "    trainer.step(closure)\n",
    "    \n",
    "\n"
   ]
  },
  {
   "cell_type": "code",
   "execution_count": 110,
   "id": "bf3c7483",
   "metadata": {},
   "outputs": [],
   "source": [
    "noise = noise.detach().squeeze(0).cpu()"
   ]
  },
  {
   "cell_type": "code",
   "execution_count": 111,
   "id": "042f6539",
   "metadata": {},
   "outputs": [
    {
     "data": {
      "text/plain": [
       "<matplotlib.image.AxesImage at 0x1750b556160>"
      ]
     },
     "execution_count": 111,
     "metadata": {},
     "output_type": "execute_result"
    },
    {
     "data": {
      "image/png": "[encoded data removed]",
      "text/plain": [
       "<Figure size 600x400 with 1 Axes>"
      ]
     },
     "metadata": {},
     "output_type": "display_data"
    }
   ],
   "source": [
    "plt.figure(figsize=(6, 4))\n",
    "plt.imshow(noise[0].numpy())"
   ]
  },
  {
   "cell_type": "markdown",
   "id": "ceef37a5",
   "metadata": {},
   "source": [
    "# test"
   ]
  },
  {
   "cell_type": "code",
   "execution_count": 112,
   "id": "b128427b",
   "metadata": {},
   "outputs": [
    {
     "data": {
      "text/plain": [
       "torch.Size([1, 1, 28, 28])"
      ]
     },
     "execution_count": 112,
     "metadata": {},
     "output_type": "execute_result"
    }
   ],
   "source": [
    "#orig_img = orig_img.unsqueeze(0)\n",
    "orig_img.shape"
   ]
  },
  {
   "cell_type": "code",
   "execution_count": 113,
   "id": "17061508",
   "metadata": {},
   "outputs": [
    {
     "data": {
      "text/plain": [
       "tensor(5, device='cuda:0')"
      ]
     },
     "execution_count": 113,
     "metadata": {},
     "output_type": "execute_result"
    }
   ],
   "source": [
    "model(orig_img).argmax()"
   ]
  },
  {
   "cell_type": "code",
   "execution_count": 114,
   "id": "9f9f22b1",
   "metadata": {},
   "outputs": [
    {
     "data": {
      "text/plain": [
       "tensor(3, device='cuda:0')"
      ]
     },
     "execution_count": 114,
     "metadata": {},
     "output_type": "execute_result"
    }
   ],
   "source": [
    "modified_image = orig_img.cpu() + noise.unsqueeze(0)\n",
    "model(modified_image.cuda()).argmax()"
   ]
  },
  {
   "cell_type": "code",
   "execution_count": 115,
   "id": "506ce0db",
   "metadata": {},
   "outputs": [
    {
     "data": {
      "text/plain": [
       "Text(0.5, 1.0, 'Noised image')"
      ]
     },
     "execution_count": 115,
     "metadata": {},
     "output_type": "execute_result"
    },
    {
     "data": {
      "image/png": "[encoded data removed]",
      "text/plain": [
       "<Figure size 2000x2000 with 2 Axes>"
      ]
     },
     "metadata": {},
     "output_type": "display_data"
    }
   ],
   "source": [
    "fig = plt.figure()\n",
    "plt.rcParams[\"figure.figsize\"] = (20, 20)\n",
    "\n",
    "a = fig.add_subplot(1,2,1)\n",
    "imgplot = plt.imshow(orig_img[0][0].cpu().numpy())\n",
    "plt.title('Original Image')\n",
    "plt.axis('off')\n",
    "\n",
    "a = fig.add_subplot(1,2,2)\n",
    "imgplot = plt.imshow(modified_image[0][0].cpu().numpy())\n",
    "plt.axis('off') \n",
    "plt.title('Noised image')"
   ]
  },
  {
   "cell_type": "code",
   "execution_count": null,
   "id": "4ada41f6",
   "metadata": {},
   "outputs": [],
   "source": []
  }
 ],
 "metadata": {
  "kernelspec": {
   "display_name": "Python 3 (ipykernel)",
   "language": "python",
   "name": "python3"
  },
  "language_info": {
   "codemirror_mode": {
    "name": "ipython",
    "version": 3
   },
   "file_extension": ".py",
   "mimetype": "text/x-python",
   "name": "python",
   "nbconvert_exporter": "python",
   "pygments_lexer": "ipython3",
   "version": "3.9.17"
  }
 },
 "nbformat": 4,
 "nbformat_minor": 5
}
