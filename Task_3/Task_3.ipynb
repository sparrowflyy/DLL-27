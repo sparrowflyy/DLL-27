{
 "cells": [
  {
   "cell_type": "code",
   "execution_count": 1,
   "id": "d9f94103",
   "metadata": {},
   "outputs": [],
   "source": [
    "import matplotlib.pyplot as plt\n",
    "%matplotlib inline\n",
    "import torch\n",
    "import numpy as np\n",
    "import torchvision as tv\n",
    "import pandas as pd\n",
    "import numpy as np\n",
    "import time"
   ]
  },
  {
   "cell_type": "code",
   "execution_count": 2,
   "id": "a11099bb",
   "metadata": {},
   "outputs": [],
   "source": [
    "BATCH_SIZE=256"
   ]
  },
  {
   "cell_type": "code",
   "execution_count": 3,
   "id": "2a69eb89",
   "metadata": {},
   "outputs": [],
   "source": [
    "train_dataset = tv.datasets.FashionMNIST('.', train=True, transform=tv.transforms.ToTensor(), download=True)\n",
    "test_dataset = tv.datasets.FashionMNIST('.', train=False, transform=tv.transforms.ToTensor(), download=True)\n",
    "train_iter = torch.utils.data.DataLoader(train_dataset, batch_size=BATCH_SIZE)\n",
    "test_iter = torch.utils.data.DataLoader(test_dataset, batch_size=BATCH_SIZE)"
   ]
  },
  {
   "cell_type": "code",
   "execution_count": 4,
   "id": "071849bd",
   "metadata": {},
   "outputs": [
    {
     "data": {
      "text/plain": [
       "(tensor([[[0.0000, 0.0000, 0.0000, 0.0000, 0.0000, 0.0000, 0.0000, 0.0000,\n",
       "           0.0000, 0.0000, 0.0000, 0.0000, 0.0000, 0.0000, 0.0000, 0.0000,\n",
       "           0.0000, 0.0000, 0.0000, 0.0000, 0.0000, 0.0000, 0.0000, 0.0000,\n",
       "           0.0000, 0.0000, 0.0000, 0.0000],\n",
       "          [0.0000, 0.0000, 0.0000, 0.0000, 0.0000, 0.0000, 0.0000, 0.0000,\n",
       "           0.0000, 0.0000, 0.0000, 0.0000, 0.0000, 0.0000, 0.0000, 0.0000,\n",
       "           0.0000, 0.0000, 0.0000, 0.0000, 0.0000, 0.0000, 0.0000, 0.0000,\n",
       "           0.0000, 0.0000, 0.0000, 0.0000],\n",
       "          [0.0000, 0.0000, 0.0000, 0.0000, 0.0000, 0.0000, 0.0000, 0.0000,\n",
       "           0.0000, 0.0000, 0.0000, 0.0000, 0.0000, 0.0000, 0.0000, 0.0000,\n",
       "           0.0000, 0.0000, 0.0000, 0.0000, 0.0000, 0.0000, 0.0000, 0.0000,\n",
       "           0.0000, 0.0000, 0.0000, 0.0000],\n",
       "          [0.0000, 0.0000, 0.0000, 0.0000, 0.0000, 0.0000, 0.0000, 0.0000,\n",
       "           0.0000, 0.0000, 0.0000, 0.0000, 0.0039, 0.0000, 0.0000, 0.0510,\n",
       "           0.2863, 0.0000, 0.0000, 0.0039, 0.0157, 0.0000, 0.0000, 0.0000,\n",
       "           0.0000, 0.0039, 0.0039, 0.0000],\n",
       "          [0.0000, 0.0000, 0.0000, 0.0000, 0.0000, 0.0000, 0.0000, 0.0000,\n",
       "           0.0000, 0.0000, 0.0000, 0.0000, 0.0118, 0.0000, 0.1412, 0.5333,\n",
       "           0.4980, 0.2431, 0.2118, 0.0000, 0.0000, 0.0000, 0.0039, 0.0118,\n",
       "           0.0157, 0.0000, 0.0000, 0.0118],\n",
       "          [0.0000, 0.0000, 0.0000, 0.0000, 0.0000, 0.0000, 0.0000, 0.0000,\n",
       "           0.0000, 0.0000, 0.0000, 0.0000, 0.0235, 0.0000, 0.4000, 0.8000,\n",
       "           0.6902, 0.5255, 0.5647, 0.4824, 0.0902, 0.0000, 0.0000, 0.0000,\n",
       "           0.0000, 0.0471, 0.0392, 0.0000],\n",
       "          [0.0000, 0.0000, 0.0000, 0.0000, 0.0000, 0.0000, 0.0000, 0.0000,\n",
       "           0.0000, 0.0000, 0.0000, 0.0000, 0.0000, 0.0000, 0.6078, 0.9255,\n",
       "           0.8118, 0.6980, 0.4196, 0.6118, 0.6314, 0.4275, 0.2510, 0.0902,\n",
       "           0.3020, 0.5098, 0.2824, 0.0588],\n",
       "          [0.0000, 0.0000, 0.0000, 0.0000, 0.0000, 0.0000, 0.0000, 0.0000,\n",
       "           0.0000, 0.0000, 0.0000, 0.0039, 0.0000, 0.2706, 0.8118, 0.8745,\n",
       "           0.8549, 0.8471, 0.8471, 0.6392, 0.4980, 0.4745, 0.4784, 0.5725,\n",
       "           0.5529, 0.3451, 0.6745, 0.2588],\n",
       "          [0.0000, 0.0000, 0.0000, 0.0000, 0.0000, 0.0000, 0.0000, 0.0000,\n",
       "           0.0000, 0.0039, 0.0039, 0.0039, 0.0000, 0.7843, 0.9098, 0.9098,\n",
       "           0.9137, 0.8980, 0.8745, 0.8745, 0.8431, 0.8353, 0.6431, 0.4980,\n",
       "           0.4824, 0.7686, 0.8980, 0.0000],\n",
       "          [0.0000, 0.0000, 0.0000, 0.0000, 0.0000, 0.0000, 0.0000, 0.0000,\n",
       "           0.0000, 0.0000, 0.0000, 0.0000, 0.0000, 0.7176, 0.8824, 0.8471,\n",
       "           0.8745, 0.8941, 0.9216, 0.8902, 0.8784, 0.8706, 0.8784, 0.8667,\n",
       "           0.8745, 0.9608, 0.6784, 0.0000],\n",
       "          [0.0000, 0.0000, 0.0000, 0.0000, 0.0000, 0.0000, 0.0000, 0.0000,\n",
       "           0.0000, 0.0000, 0.0000, 0.0000, 0.0000, 0.7569, 0.8941, 0.8549,\n",
       "           0.8353, 0.7765, 0.7059, 0.8314, 0.8235, 0.8275, 0.8353, 0.8745,\n",
       "           0.8627, 0.9529, 0.7922, 0.0000],\n",
       "          [0.0000, 0.0000, 0.0000, 0.0000, 0.0000, 0.0000, 0.0000, 0.0000,\n",
       "           0.0000, 0.0039, 0.0118, 0.0000, 0.0471, 0.8588, 0.8627, 0.8314,\n",
       "           0.8549, 0.7529, 0.6627, 0.8902, 0.8157, 0.8549, 0.8784, 0.8314,\n",
       "           0.8863, 0.7725, 0.8196, 0.2039],\n",
       "          [0.0000, 0.0000, 0.0000, 0.0000, 0.0000, 0.0000, 0.0000, 0.0000,\n",
       "           0.0000, 0.0000, 0.0235, 0.0000, 0.3882, 0.9569, 0.8706, 0.8627,\n",
       "           0.8549, 0.7961, 0.7765, 0.8667, 0.8431, 0.8353, 0.8706, 0.8627,\n",
       "           0.9608, 0.4667, 0.6549, 0.2196],\n",
       "          [0.0000, 0.0000, 0.0000, 0.0000, 0.0000, 0.0000, 0.0000, 0.0000,\n",
       "           0.0000, 0.0157, 0.0000, 0.0000, 0.2157, 0.9255, 0.8941, 0.9020,\n",
       "           0.8941, 0.9412, 0.9098, 0.8353, 0.8549, 0.8745, 0.9176, 0.8510,\n",
       "           0.8510, 0.8196, 0.3608, 0.0000],\n",
       "          [0.0000, 0.0000, 0.0039, 0.0157, 0.0235, 0.0275, 0.0078, 0.0000,\n",
       "           0.0000, 0.0000, 0.0000, 0.0000, 0.9294, 0.8863, 0.8510, 0.8745,\n",
       "           0.8706, 0.8588, 0.8706, 0.8667, 0.8471, 0.8745, 0.8980, 0.8431,\n",
       "           0.8549, 1.0000, 0.3020, 0.0000],\n",
       "          [0.0000, 0.0118, 0.0000, 0.0000, 0.0000, 0.0000, 0.0000, 0.0000,\n",
       "           0.0000, 0.2431, 0.5686, 0.8000, 0.8941, 0.8118, 0.8353, 0.8667,\n",
       "           0.8549, 0.8157, 0.8275, 0.8549, 0.8784, 0.8745, 0.8588, 0.8431,\n",
       "           0.8784, 0.9569, 0.6235, 0.0000],\n",
       "          [0.0000, 0.0000, 0.0000, 0.0000, 0.0706, 0.1725, 0.3216, 0.4196,\n",
       "           0.7412, 0.8941, 0.8627, 0.8706, 0.8510, 0.8863, 0.7843, 0.8039,\n",
       "           0.8275, 0.9020, 0.8784, 0.9176, 0.6902, 0.7373, 0.9804, 0.9725,\n",
       "           0.9137, 0.9333, 0.8431, 0.0000],\n",
       "          [0.0000, 0.2235, 0.7333, 0.8157, 0.8784, 0.8667, 0.8784, 0.8157,\n",
       "           0.8000, 0.8392, 0.8157, 0.8196, 0.7843, 0.6235, 0.9608, 0.7569,\n",
       "           0.8078, 0.8745, 1.0000, 1.0000, 0.8667, 0.9176, 0.8667, 0.8275,\n",
       "           0.8627, 0.9098, 0.9647, 0.0000],\n",
       "          [0.0118, 0.7922, 0.8941, 0.8784, 0.8667, 0.8275, 0.8275, 0.8392,\n",
       "           0.8039, 0.8039, 0.8039, 0.8627, 0.9412, 0.3137, 0.5882, 1.0000,\n",
       "           0.8980, 0.8667, 0.7373, 0.6039, 0.7490, 0.8235, 0.8000, 0.8196,\n",
       "           0.8706, 0.8941, 0.8824, 0.0000],\n",
       "          [0.3843, 0.9137, 0.7765, 0.8235, 0.8706, 0.8980, 0.8980, 0.9176,\n",
       "           0.9765, 0.8627, 0.7608, 0.8431, 0.8510, 0.9451, 0.2549, 0.2863,\n",
       "           0.4157, 0.4588, 0.6588, 0.8588, 0.8667, 0.8431, 0.8510, 0.8745,\n",
       "           0.8745, 0.8784, 0.8980, 0.1137],\n",
       "          [0.2941, 0.8000, 0.8314, 0.8000, 0.7569, 0.8039, 0.8275, 0.8824,\n",
       "           0.8471, 0.7255, 0.7725, 0.8078, 0.7765, 0.8353, 0.9412, 0.7647,\n",
       "           0.8902, 0.9608, 0.9373, 0.8745, 0.8549, 0.8314, 0.8196, 0.8706,\n",
       "           0.8627, 0.8667, 0.9020, 0.2627],\n",
       "          [0.1882, 0.7961, 0.7176, 0.7608, 0.8353, 0.7725, 0.7255, 0.7451,\n",
       "           0.7608, 0.7529, 0.7922, 0.8392, 0.8588, 0.8667, 0.8627, 0.9255,\n",
       "           0.8824, 0.8471, 0.7804, 0.8078, 0.7294, 0.7098, 0.6941, 0.6745,\n",
       "           0.7098, 0.8039, 0.8078, 0.4510],\n",
       "          [0.0000, 0.4784, 0.8588, 0.7569, 0.7020, 0.6706, 0.7176, 0.7686,\n",
       "           0.8000, 0.8235, 0.8353, 0.8118, 0.8275, 0.8235, 0.7843, 0.7686,\n",
       "           0.7608, 0.7490, 0.7647, 0.7490, 0.7765, 0.7529, 0.6902, 0.6118,\n",
       "           0.6549, 0.6941, 0.8235, 0.3608],\n",
       "          [0.0000, 0.0000, 0.2902, 0.7412, 0.8314, 0.7490, 0.6863, 0.6745,\n",
       "           0.6863, 0.7098, 0.7255, 0.7373, 0.7412, 0.7373, 0.7569, 0.7765,\n",
       "           0.8000, 0.8196, 0.8235, 0.8235, 0.8275, 0.7373, 0.7373, 0.7608,\n",
       "           0.7529, 0.8471, 0.6667, 0.0000],\n",
       "          [0.0078, 0.0000, 0.0000, 0.0000, 0.2588, 0.7843, 0.8706, 0.9294,\n",
       "           0.9373, 0.9490, 0.9647, 0.9529, 0.9569, 0.8667, 0.8627, 0.7569,\n",
       "           0.7490, 0.7020, 0.7137, 0.7137, 0.7098, 0.6902, 0.6510, 0.6588,\n",
       "           0.3882, 0.2275, 0.0000, 0.0000],\n",
       "          [0.0000, 0.0000, 0.0000, 0.0000, 0.0000, 0.0000, 0.0000, 0.1569,\n",
       "           0.2392, 0.1725, 0.2824, 0.1608, 0.1373, 0.0000, 0.0000, 0.0000,\n",
       "           0.0000, 0.0000, 0.0000, 0.0000, 0.0000, 0.0000, 0.0000, 0.0000,\n",
       "           0.0000, 0.0000, 0.0000, 0.0000],\n",
       "          [0.0000, 0.0000, 0.0000, 0.0000, 0.0000, 0.0000, 0.0000, 0.0000,\n",
       "           0.0000, 0.0000, 0.0000, 0.0000, 0.0000, 0.0000, 0.0000, 0.0000,\n",
       "           0.0000, 0.0000, 0.0000, 0.0000, 0.0000, 0.0000, 0.0000, 0.0000,\n",
       "           0.0000, 0.0000, 0.0000, 0.0000],\n",
       "          [0.0000, 0.0000, 0.0000, 0.0000, 0.0000, 0.0000, 0.0000, 0.0000,\n",
       "           0.0000, 0.0000, 0.0000, 0.0000, 0.0000, 0.0000, 0.0000, 0.0000,\n",
       "           0.0000, 0.0000, 0.0000, 0.0000, 0.0000, 0.0000, 0.0000, 0.0000,\n",
       "           0.0000, 0.0000, 0.0000, 0.0000]]]),\n",
       " 9)"
      ]
     },
     "execution_count": 4,
     "metadata": {},
     "output_type": "execute_result"
    }
   ],
   "source": [
    "train_dataset[0]"
   ]
  },
  {
   "cell_type": "code",
   "execution_count": 5,
   "id": "d15b5b09",
   "metadata": {},
   "outputs": [
    {
     "data": {
      "image/png": "[encoded data removed]",
      "text/plain": [
       "<Figure size 640x480 with 1 Axes>"
      ]
     },
     "metadata": {},
     "output_type": "display_data"
    }
   ],
   "source": [
    "plt.imshow(train_dataset[0][0].numpy().reshape(28,28), cmap='gray');"
   ]
  },
  {
   "cell_type": "code",
   "execution_count": 6,
   "id": "44028161",
   "metadata": {},
   "outputs": [],
   "source": [
    "#try model from lectures\n",
    "model = torch.nn.Sequential(\n",
    "    torch.nn.Conv2d(1, 6, kernel_size=5, padding=0),\n",
    "    torch.nn.Tanh(),\n",
    "    torch.nn.AvgPool2d(2, stride=2),\n",
    "    torch.nn.Conv2d(6, 16, kernel_size=5),\n",
    "    torch.nn.AvgPool2d(2, stride=2),\n",
    "    torch.nn.Conv2d(16, 120, kernel_size=4),\n",
    "    torch.nn.Flatten(),\n",
    "    torch.nn.Linear(120, 84),\n",
    "    torch.nn.Tanh(),\n",
    "    torch.nn.Linear(84, 10)\n",
    ")"
   ]
  },
  {
   "cell_type": "code",
   "execution_count": 7,
   "id": "32cd8c83",
   "metadata": {},
   "outputs": [
    {
     "name": "stdout",
     "output_type": "stream",
     "text": [
      "----------------------------------------------------------------\n",
      "        Layer (type)               Output Shape         Param #\n",
      "================================================================\n",
      "            Conv2d-1            [-1, 6, 24, 24]             156\n",
      "              Tanh-2            [-1, 6, 24, 24]               0\n",
      "         AvgPool2d-3            [-1, 6, 12, 12]               0\n",
      "            Conv2d-4             [-1, 16, 8, 8]           2,416\n",
      "         AvgPool2d-5             [-1, 16, 4, 4]               0\n",
      "            Conv2d-6            [-1, 120, 1, 1]          30,840\n",
      "           Flatten-7                  [-1, 120]               0\n",
      "            Linear-8                   [-1, 84]          10,164\n",
      "              Tanh-9                   [-1, 84]               0\n",
      "           Linear-10                   [-1, 10]             850\n",
      "================================================================\n",
      "Total params: 44,426\n",
      "Trainable params: 44,426\n",
      "Non-trainable params: 0\n",
      "----------------------------------------------------------------\n",
      "Input size (MB): 0.00\n",
      "Forward/backward pass size (MB): 0.07\n",
      "Params size (MB): 0.17\n",
      "Estimated Total Size (MB): 0.24\n",
      "----------------------------------------------------------------\n"
     ]
    }
   ],
   "source": [
    "\n",
    "from torchsummary import summary\n",
    "\n",
    "summary(model, input_size=(1, 28, 28), device='cpu')"
   ]
  },
  {
   "cell_type": "code",
   "execution_count": 8,
   "id": "a060db41",
   "metadata": {},
   "outputs": [
    {
     "data": {
      "text/plain": [
       "'cuda'"
      ]
     },
     "execution_count": 8,
     "metadata": {},
     "output_type": "execute_result"
    }
   ],
   "source": [
    "device = \"cuda\" if torch.cuda.is_available() else \"cpu\"\n",
    "device"
   ]
  },
  {
   "cell_type": "code",
   "execution_count": 9,
   "id": "607e4af8",
   "metadata": {},
   "outputs": [],
   "source": [
    "model = model.to(device)"
   ]
  },
  {
   "cell_type": "code",
   "execution_count": 10,
   "id": "c5500e4f",
   "metadata": {},
   "outputs": [],
   "source": [
    "def train(net, train_iter, test_iter, optimizer, num_epochs, device):\n",
    "    loss = torch.nn.CrossEntropyLoss()\n",
    "\n",
    "    for epoch in range(num_epochs):\n",
    "        train_l_sum, train_acc_sum, n, start = 0.0, 0.0, 0, time.time()\n",
    "    \n",
    "        for X, y in train_iter:\n",
    "            X, y = X.to(device), y.to(device)\n",
    "            optimizer.zero_grad()\n",
    "            y_hat = net(X)\n",
    "            l = loss(y_hat, y)\n",
    "            l.backward()\n",
    "            optimizer.step()\n",
    "            train_l_sum += l.item()\n",
    "            train_acc_sum += (y_hat.argmax(axis=1) == y).sum().item()\n",
    "            n += y.shape[0]\n",
    "    \n",
    "        test_acc = evaluate_accuracy(test_iter, net, device)\n",
    "        print(f'epoch {epoch + 1}, loss {train_l_sum / n:.4f}, train acc {train_acc_sum / n:.3f}' \\\n",
    "              f', test acc {test_acc:.3f}, time {time.time() - start:.1f} sec')"
   ]
  },
  {
   "cell_type": "code",
   "execution_count": 11,
   "id": "c190bfe8",
   "metadata": {},
   "outputs": [],
   "source": [
    "def evaluate_accuracy(data_iter, net, device):\n",
    "    acc_sum, n = torch.Tensor([0]).to(device), 0\n",
    "    for X, y in data_iter:\n",
    "        X, y = X.to(device), y.to(device)\n",
    "        acc_sum += (net(X).argmax(axis=1) == y).sum()\n",
    "        n += y.shape[0]\n",
    "    return acc_sum.item() / n"
   ]
  },
  {
   "cell_type": "code",
   "execution_count": 12,
   "id": "1581d367",
   "metadata": {},
   "outputs": [
    {
     "name": "stdout",
     "output_type": "stream",
     "text": [
      "epoch 1, loss 0.0033, train acc 0.686, test acc 0.757, time 17.1 sec\n",
      "epoch 2, loss 0.0022, train acc 0.793, test acc 0.795, time 10.0 sec\n",
      "epoch 3, loss 0.0019, train acc 0.818, test acc 0.813, time 8.8 sec\n",
      "epoch 4, loss 0.0018, train acc 0.834, test acc 0.827, time 9.3 sec\n",
      "epoch 5, loss 0.0017, train acc 0.844, test acc 0.840, time 10.7 sec\n"
     ]
    }
   ],
   "source": [
    "lr, num_epochs = 0.001, 5\n",
    "trainer = torch.optim.Adam(model.parameters(), lr=lr)\n",
    "train(model, train_iter, test_iter, trainer, num_epochs, device)"
   ]
  },
  {
   "cell_type": "code",
   "execution_count": 24,
   "id": "d6848232",
   "metadata": {},
   "outputs": [],
   "source": [
    "#try to add regularization\n",
    "model = torch.nn.Sequential(\n",
    "    torch.nn.Conv2d(1, 6, kernel_size=5, padding=0),\n",
    "    torch.nn.Tanh(),\n",
    "    torch.nn.AvgPool2d(2, stride=2),\n",
    "    torch.nn.Dropout(0.5),\n",
    "    torch.nn.Conv2d(6, 16, kernel_size=5),\n",
    "    torch.nn.AvgPool2d(2, stride=2),\n",
    "    torch.nn.Conv2d(16, 120, kernel_size=4),\n",
    "    torch.nn.Flatten(),\n",
    "    torch.nn.BatchNorm1d(120),\n",
    "    torch.nn.Linear(120, 84),\n",
    "    torch.nn.Tanh(),\n",
    "    torch.nn.Linear(84, 10)\n",
    ")\n",
    "model = model.to(device)"
   ]
  },
  {
   "cell_type": "code",
   "execution_count": 25,
   "id": "9f685a94",
   "metadata": {},
   "outputs": [
    {
     "name": "stdout",
     "output_type": "stream",
     "text": [
      "epoch 1, loss 0.0028, train acc 0.752, test acc 0.788, time 10.2 sec\n",
      "epoch 2, loss 0.0020, train acc 0.810, test acc 0.806, time 10.0 sec\n",
      "epoch 3, loss 0.0019, train acc 0.825, test acc 0.824, time 10.8 sec\n",
      "epoch 4, loss 0.0018, train acc 0.835, test acc 0.824, time 11.1 sec\n",
      "epoch 5, loss 0.0017, train acc 0.840, test acc 0.827, time 8.9 sec\n",
      "epoch 6, loss 0.0017, train acc 0.845, test acc 0.836, time 10.8 sec\n",
      "epoch 7, loss 0.0016, train acc 0.849, test acc 0.837, time 9.6 sec\n",
      "epoch 8, loss 0.0016, train acc 0.853, test acc 0.842, time 8.7 sec\n",
      "epoch 9, loss 0.0016, train acc 0.856, test acc 0.841, time 9.2 sec\n",
      "epoch 10, loss 0.0015, train acc 0.856, test acc 0.840, time 9.4 sec\n",
      "epoch 11, loss 0.0015, train acc 0.860, test acc 0.845, time 9.0 sec\n",
      "epoch 12, loss 0.0015, train acc 0.861, test acc 0.846, time 9.9 sec\n",
      "epoch 13, loss 0.0015, train acc 0.862, test acc 0.847, time 9.0 sec\n",
      "epoch 14, loss 0.0015, train acc 0.865, test acc 0.850, time 8.9 sec\n",
      "epoch 15, loss 0.0014, train acc 0.866, test acc 0.849, time 9.3 sec\n",
      "epoch 16, loss 0.0014, train acc 0.866, test acc 0.853, time 10.1 sec\n",
      "epoch 17, loss 0.0014, train acc 0.868, test acc 0.853, time 9.0 sec\n",
      "epoch 18, loss 0.0014, train acc 0.869, test acc 0.851, time 10.1 sec\n",
      "epoch 19, loss 0.0014, train acc 0.870, test acc 0.854, time 9.2 sec\n",
      "epoch 20, loss 0.0014, train acc 0.870, test acc 0.850, time 10.1 sec\n"
     ]
    }
   ],
   "source": [
    "lr, num_epochs = 0.001, 20\n",
    "trainer = torch.optim.Adam(model.parameters(), lr=lr)\n",
    "train(model, train_iter, test_iter, trainer, num_epochs, device)"
   ]
  },
  {
   "cell_type": "markdown",
   "id": "d181060a",
   "metadata": {},
   "source": [
    "Accuracy is low, continue experimenting..."
   ]
  },
  {
   "cell_type": "code",
   "execution_count": 31,
   "id": "58a2c78f",
   "metadata": {},
   "outputs": [
    {
     "name": "stdout",
     "output_type": "stream",
     "text": [
      "----------------------------------------------------------------\n",
      "        Layer (type)               Output Shape         Param #\n",
      "================================================================\n",
      "            Conv2d-1           [-1, 10, 24, 24]             260\n",
      "              Tanh-2           [-1, 10, 24, 24]               0\n",
      "         AvgPool2d-3           [-1, 10, 12, 12]               0\n",
      "            Conv2d-4             [-1, 20, 8, 8]           5,020\n",
      "           Dropout-5             [-1, 20, 8, 8]               0\n",
      "         AvgPool2d-6             [-1, 20, 4, 4]               0\n",
      "            Conv2d-7            [-1, 200, 1, 1]          64,200\n",
      "           Flatten-8                  [-1, 200]               0\n",
      "            Linear-9                  [-1, 100]          20,100\n",
      "             Tanh-10                  [-1, 100]               0\n",
      "      BatchNorm1d-11                  [-1, 100]             200\n",
      "           Linear-12                   [-1, 10]           1,010\n",
      "================================================================\n",
      "Total params: 90,790\n",
      "Trainable params: 90,790\n",
      "Non-trainable params: 0\n",
      "----------------------------------------------------------------\n",
      "Input size (MB): 0.00\n",
      "Forward/backward pass size (MB): 0.13\n",
      "Params size (MB): 0.35\n",
      "Estimated Total Size (MB): 0.48\n",
      "----------------------------------------------------------------\n"
     ]
    }
   ],
   "source": [
    "#try to add regularization\n",
    "model = torch.nn.Sequential(\n",
    "    torch.nn.Conv2d(1, 10, kernel_size=5, padding=0),\n",
    "    torch.nn.Tanh(),\n",
    "    torch.nn.AvgPool2d(2, stride=2),\n",
    "    torch.nn.Conv2d(10, 20, kernel_size=5),\n",
    "    torch.nn.Dropout(0.5),\n",
    "    torch.nn.AvgPool2d(2, stride=2),\n",
    "    torch.nn.Conv2d(20, 200, kernel_size=4),\n",
    "    torch.nn.Flatten(),\n",
    "    torch.nn.Linear(200, 100),\n",
    "    torch.nn.Tanh(),\n",
    "    torch.nn.BatchNorm1d(100),\n",
    "    torch.nn.Linear(100, 10)\n",
    ")\n",
    "summary(model, input_size=(1, 28, 28), device='cpu')"
   ]
  },
  {
   "cell_type": "code",
   "execution_count": 32,
   "id": "40fae45c",
   "metadata": {},
   "outputs": [],
   "source": [
    "model = model.to(device)"
   ]
  },
  {
   "cell_type": "code",
   "execution_count": 33,
   "id": "fa289193",
   "metadata": {},
   "outputs": [
    {
     "name": "stdout",
     "output_type": "stream",
     "text": [
      "epoch 1, loss 0.0026, train acc 0.762, test acc 0.780, time 10.4 sec\n",
      "epoch 2, loss 0.0021, train acc 0.803, test acc 0.791, time 10.3 sec\n",
      "epoch 3, loss 0.0020, train acc 0.815, test acc 0.802, time 10.3 sec\n",
      "epoch 4, loss 0.0019, train acc 0.822, test acc 0.813, time 9.1 sec\n",
      "epoch 5, loss 0.0018, train acc 0.830, test acc 0.822, time 10.0 sec\n",
      "epoch 6, loss 0.0017, train acc 0.840, test acc 0.832, time 10.3 sec\n",
      "epoch 7, loss 0.0016, train acc 0.847, test acc 0.839, time 10.0 sec\n",
      "epoch 8, loss 0.0016, train acc 0.853, test acc 0.845, time 9.2 sec\n",
      "epoch 9, loss 0.0015, train acc 0.856, test acc 0.847, time 10.1 sec\n",
      "epoch 10, loss 0.0015, train acc 0.863, test acc 0.846, time 10.4 sec\n",
      "epoch 11, loss 0.0014, train acc 0.865, test acc 0.852, time 10.5 sec\n",
      "epoch 12, loss 0.0014, train acc 0.869, test acc 0.859, time 9.2 sec\n",
      "epoch 13, loss 0.0014, train acc 0.871, test acc 0.859, time 9.3 sec\n",
      "epoch 14, loss 0.0013, train acc 0.875, test acc 0.863, time 10.0 sec\n",
      "epoch 15, loss 0.0013, train acc 0.877, test acc 0.861, time 10.2 sec\n",
      "epoch 16, loss 0.0013, train acc 0.878, test acc 0.863, time 10.0 sec\n",
      "epoch 17, loss 0.0013, train acc 0.880, test acc 0.866, time 10.3 sec\n",
      "epoch 18, loss 0.0012, train acc 0.881, test acc 0.866, time 10.2 sec\n",
      "epoch 19, loss 0.0012, train acc 0.881, test acc 0.865, time 10.1 sec\n",
      "epoch 20, loss 0.0012, train acc 0.884, test acc 0.871, time 9.9 sec\n"
     ]
    }
   ],
   "source": [
    "lr, num_epochs = 0.001, 20\n",
    "trainer = torch.optim.Adam(model.parameters(), lr=lr)\n",
    "train(model, train_iter, test_iter, trainer, num_epochs, device)"
   ]
  },
  {
   "cell_type": "markdown",
   "id": "ad1715f9",
   "metadata": {},
   "source": [
    "Results are better, but seems like model has been retrained, try add more regularization layers"
   ]
  },
  {
   "cell_type": "code",
   "execution_count": 34,
   "id": "92a74e00",
   "metadata": {},
   "outputs": [
    {
     "name": "stdout",
     "output_type": "stream",
     "text": [
      "----------------------------------------------------------------\n",
      "        Layer (type)               Output Shape         Param #\n",
      "================================================================\n",
      "            Conv2d-1           [-1, 10, 24, 24]             260\n",
      "              Tanh-2           [-1, 10, 24, 24]               0\n",
      "           Dropout-3           [-1, 10, 24, 24]               0\n",
      "         AvgPool2d-4           [-1, 10, 12, 12]               0\n",
      "            Conv2d-5             [-1, 20, 8, 8]           5,020\n",
      "           Dropout-6             [-1, 20, 8, 8]               0\n",
      "         AvgPool2d-7             [-1, 20, 4, 4]               0\n",
      "            Conv2d-8            [-1, 200, 1, 1]          64,200\n",
      "           Flatten-9                  [-1, 200]               0\n",
      "          Dropout-10                  [-1, 200]               0\n",
      "           Linear-11                  [-1, 100]          20,100\n",
      "             Tanh-12                  [-1, 100]               0\n",
      "      BatchNorm1d-13                  [-1, 100]             200\n",
      "           Linear-14                   [-1, 10]           1,010\n",
      "================================================================\n",
      "Total params: 90,790\n",
      "Trainable params: 90,790\n",
      "Non-trainable params: 0\n",
      "----------------------------------------------------------------\n",
      "Input size (MB): 0.00\n",
      "Forward/backward pass size (MB): 0.17\n",
      "Params size (MB): 0.35\n",
      "Estimated Total Size (MB): 0.52\n",
      "----------------------------------------------------------------\n"
     ]
    }
   ],
   "source": [
    "#try to add regularization\n",
    "model = torch.nn.Sequential(\n",
    "    torch.nn.Conv2d(1, 10, kernel_size=5, padding=0),\n",
    "    torch.nn.Tanh(),\n",
    "    torch.nn.Dropout(0.3),\n",
    "    torch.nn.AvgPool2d(2, stride=2),\n",
    "    torch.nn.Conv2d(10, 20, kernel_size=5),\n",
    "    torch.nn.Dropout(0.3),\n",
    "    torch.nn.AvgPool2d(2, stride=2),\n",
    "    torch.nn.Conv2d(20, 200, kernel_size=4),\n",
    "    torch.nn.Flatten(),\n",
    "    torch.nn.Dropout(0.3),\n",
    "    torch.nn.Linear(200, 100),\n",
    "    torch.nn.Tanh(),\n",
    "    torch.nn.BatchNorm1d(100),\n",
    "    torch.nn.Linear(100, 10)\n",
    ")\n",
    "summary(model, input_size=(1, 28, 28), device='cpu')"
   ]
  },
  {
   "cell_type": "code",
   "execution_count": 35,
   "id": "91df1b0b",
   "metadata": {},
   "outputs": [],
   "source": [
    "model = model.to(device)"
   ]
  },
  {
   "cell_type": "code",
   "execution_count": 36,
   "id": "5bfa755b",
   "metadata": {},
   "outputs": [
    {
     "name": "stdout",
     "output_type": "stream",
     "text": [
      "epoch 1, loss 0.0027, train acc 0.751, test acc 0.779, time 10.1 sec\n",
      "epoch 2, loss 0.0021, train acc 0.801, test acc 0.793, time 10.1 sec\n",
      "epoch 3, loss 0.0020, train acc 0.813, test acc 0.807, time 8.9 sec\n",
      "epoch 4, loss 0.0019, train acc 0.821, test acc 0.808, time 9.7 sec\n",
      "epoch 5, loss 0.0018, train acc 0.830, test acc 0.821, time 9.6 sec\n",
      "epoch 6, loss 0.0018, train acc 0.834, test acc 0.827, time 8.6 sec\n",
      "epoch 7, loss 0.0017, train acc 0.840, test acc 0.834, time 10.0 sec\n",
      "epoch 8, loss 0.0016, train acc 0.848, test acc 0.836, time 9.1 sec\n",
      "epoch 9, loss 0.0016, train acc 0.851, test acc 0.845, time 9.3 sec\n",
      "epoch 10, loss 0.0015, train acc 0.856, test acc 0.845, time 8.9 sec\n",
      "epoch 11, loss 0.0015, train acc 0.860, test acc 0.843, time 8.8 sec\n",
      "epoch 12, loss 0.0015, train acc 0.861, test acc 0.849, time 9.1 sec\n",
      "epoch 13, loss 0.0015, train acc 0.863, test acc 0.853, time 9.4 sec\n",
      "epoch 14, loss 0.0014, train acc 0.865, test acc 0.853, time 9.4 sec\n",
      "epoch 15, loss 0.0014, train acc 0.868, test acc 0.854, time 9.5 sec\n",
      "epoch 16, loss 0.0014, train acc 0.868, test acc 0.852, time 9.7 sec\n",
      "epoch 17, loss 0.0014, train acc 0.870, test acc 0.859, time 10.7 sec\n",
      "epoch 18, loss 0.0014, train acc 0.871, test acc 0.858, time 10.0 sec\n",
      "epoch 19, loss 0.0013, train acc 0.874, test acc 0.860, time 9.6 sec\n",
      "epoch 20, loss 0.0013, train acc 0.873, test acc 0.860, time 9.6 sec\n",
      "epoch 21, loss 0.0013, train acc 0.873, test acc 0.865, time 9.9 sec\n",
      "epoch 22, loss 0.0013, train acc 0.874, test acc 0.860, time 9.1 sec\n",
      "epoch 23, loss 0.0013, train acc 0.875, test acc 0.864, time 9.6 sec\n",
      "epoch 24, loss 0.0013, train acc 0.877, test acc 0.863, time 9.8 sec\n",
      "epoch 25, loss 0.0013, train acc 0.877, test acc 0.863, time 9.8 sec\n",
      "epoch 26, loss 0.0013, train acc 0.876, test acc 0.864, time 9.7 sec\n",
      "epoch 27, loss 0.0013, train acc 0.879, test acc 0.863, time 9.5 sec\n",
      "epoch 28, loss 0.0013, train acc 0.879, test acc 0.866, time 9.3 sec\n",
      "epoch 29, loss 0.0013, train acc 0.880, test acc 0.864, time 9.3 sec\n",
      "epoch 30, loss 0.0013, train acc 0.881, test acc 0.863, time 9.4 sec\n",
      "epoch 31, loss 0.0013, train acc 0.881, test acc 0.866, time 9.3 sec\n",
      "epoch 32, loss 0.0013, train acc 0.880, test acc 0.864, time 9.4 sec\n",
      "epoch 33, loss 0.0013, train acc 0.881, test acc 0.861, time 9.2 sec\n",
      "epoch 34, loss 0.0013, train acc 0.880, test acc 0.864, time 9.8 sec\n",
      "epoch 35, loss 0.0012, train acc 0.882, test acc 0.863, time 9.3 sec\n",
      "epoch 36, loss 0.0012, train acc 0.882, test acc 0.869, time 9.3 sec\n",
      "epoch 37, loss 0.0012, train acc 0.882, test acc 0.867, time 9.3 sec\n",
      "epoch 38, loss 0.0012, train acc 0.884, test acc 0.863, time 9.2 sec\n",
      "epoch 39, loss 0.0012, train acc 0.884, test acc 0.867, time 9.1 sec\n",
      "epoch 40, loss 0.0012, train acc 0.886, test acc 0.864, time 9.3 sec\n",
      "epoch 41, loss 0.0012, train acc 0.884, test acc 0.868, time 9.3 sec\n",
      "epoch 42, loss 0.0012, train acc 0.883, test acc 0.865, time 9.3 sec\n",
      "epoch 43, loss 0.0012, train acc 0.885, test acc 0.866, time 9.2 sec\n",
      "epoch 44, loss 0.0012, train acc 0.885, test acc 0.871, time 9.4 sec\n",
      "epoch 45, loss 0.0012, train acc 0.884, test acc 0.868, time 9.4 sec\n",
      "epoch 46, loss 0.0012, train acc 0.887, test acc 0.871, time 9.1 sec\n",
      "epoch 47, loss 0.0012, train acc 0.884, test acc 0.868, time 9.2 sec\n",
      "epoch 48, loss 0.0012, train acc 0.886, test acc 0.865, time 9.4 sec\n",
      "epoch 49, loss 0.0012, train acc 0.886, test acc 0.868, time 9.4 sec\n",
      "epoch 50, loss 0.0012, train acc 0.886, test acc 0.867, time 8.7 sec\n"
     ]
    }
   ],
   "source": [
    "lr, num_epochs = 0.001, 50\n",
    "trainer = torch.optim.Adam(model.parameters(), lr=lr)\n",
    "train(model, train_iter, test_iter, trainer, num_epochs, device)"
   ]
  },
  {
   "cell_type": "markdown",
   "id": "c2b46ab3",
   "metadata": {},
   "source": [
    "overtrained..."
   ]
  },
  {
   "cell_type": "code",
   "execution_count": 40,
   "id": "0839e519",
   "metadata": {},
   "outputs": [
    {
     "name": "stdout",
     "output_type": "stream",
     "text": [
      "----------------------------------------------------------------\n",
      "        Layer (type)               Output Shape         Param #\n",
      "================================================================\n",
      "            Conv2d-1           [-1, 10, 24, 24]             260\n",
      "              Tanh-2           [-1, 10, 24, 24]               0\n",
      "         AvgPool2d-3           [-1, 10, 12, 12]               0\n",
      "            Conv2d-4             [-1, 20, 8, 8]           5,020\n",
      "              Tanh-5             [-1, 20, 8, 8]               0\n",
      "           Dropout-6             [-1, 20, 8, 8]               0\n",
      "         MaxPool2d-7             [-1, 20, 4, 4]               0\n",
      "            Conv2d-8            [-1, 200, 1, 1]          64,200\n",
      "              Tanh-9            [-1, 200, 1, 1]               0\n",
      "          Flatten-10                  [-1, 200]               0\n",
      "          Dropout-11                  [-1, 200]               0\n",
      "           Linear-12                  [-1, 100]          20,100\n",
      "             Tanh-13                  [-1, 100]               0\n",
      "      BatchNorm1d-14                  [-1, 100]             200\n",
      "           Linear-15                   [-1, 10]           1,010\n",
      "================================================================\n",
      "Total params: 90,790\n",
      "Trainable params: 90,790\n",
      "Non-trainable params: 0\n",
      "----------------------------------------------------------------\n",
      "Input size (MB): 0.00\n",
      "Forward/backward pass size (MB): 0.14\n",
      "Params size (MB): 0.35\n",
      "Estimated Total Size (MB): 0.49\n",
      "----------------------------------------------------------------\n"
     ]
    }
   ],
   "source": [
    "#add missed tanh after convolution and max pooling\n",
    "model = torch.nn.Sequential(\n",
    "    torch.nn.Conv2d(1, 10, kernel_size=5, padding=0),\n",
    "    torch.nn.Tanh(),\n",
    "    torch.nn.AvgPool2d(2, stride=2),\n",
    "    torch.nn.Conv2d(10, 20, kernel_size=5),\n",
    "    torch.nn.Tanh(),\n",
    "    torch.nn.Dropout(0.5),\n",
    "    torch.nn.MaxPool2d(2, stride=2),\n",
    "    torch.nn.Conv2d(20, 200, kernel_size=4),\n",
    "    torch.nn.Tanh(),\n",
    "    torch.nn.Flatten(),\n",
    "    torch.nn.Dropout(0.5),\n",
    "    torch.nn.Linear(200, 100),\n",
    "    torch.nn.Tanh(),\n",
    "    torch.nn.BatchNorm1d(100),\n",
    "    torch.nn.Linear(100, 10)\n",
    ")\n",
    "summary(model, input_size=(1, 28, 28), device='cpu')"
   ]
  },
  {
   "cell_type": "code",
   "execution_count": 41,
   "id": "352143bb",
   "metadata": {},
   "outputs": [],
   "source": [
    "model = model.to(device)"
   ]
  },
  {
   "cell_type": "code",
   "execution_count": 42,
   "id": "435b561a",
   "metadata": {},
   "outputs": [
    {
     "name": "stdout",
     "output_type": "stream",
     "text": [
      "epoch 1, loss 0.0026, train acc 0.758, test acc 0.799, time 9.5 sec\n",
      "epoch 2, loss 0.0019, train acc 0.824, test acc 0.820, time 9.5 sec\n",
      "epoch 3, loss 0.0017, train acc 0.839, test acc 0.830, time 9.5 sec\n",
      "epoch 4, loss 0.0017, train acc 0.846, test acc 0.839, time 9.4 sec\n",
      "epoch 5, loss 0.0016, train acc 0.851, test acc 0.843, time 9.2 sec\n",
      "epoch 6, loss 0.0016, train acc 0.855, test acc 0.846, time 9.4 sec\n",
      "epoch 7, loss 0.0015, train acc 0.858, test acc 0.851, time 9.3 sec\n",
      "epoch 8, loss 0.0015, train acc 0.860, test acc 0.849, time 9.3 sec\n",
      "epoch 9, loss 0.0015, train acc 0.863, test acc 0.854, time 9.2 sec\n",
      "epoch 10, loss 0.0014, train acc 0.864, test acc 0.855, time 9.4 sec\n",
      "epoch 11, loss 0.0014, train acc 0.866, test acc 0.860, time 9.3 sec\n",
      "epoch 12, loss 0.0014, train acc 0.868, test acc 0.858, time 9.2 sec\n",
      "epoch 13, loss 0.0014, train acc 0.870, test acc 0.860, time 9.2 sec\n",
      "epoch 14, loss 0.0014, train acc 0.872, test acc 0.857, time 9.3 sec\n",
      "epoch 15, loss 0.0013, train acc 0.873, test acc 0.862, time 9.2 sec\n",
      "epoch 16, loss 0.0013, train acc 0.875, test acc 0.866, time 9.3 sec\n",
      "epoch 17, loss 0.0013, train acc 0.875, test acc 0.864, time 9.4 sec\n",
      "epoch 18, loss 0.0013, train acc 0.876, test acc 0.861, time 9.9 sec\n",
      "epoch 19, loss 0.0013, train acc 0.877, test acc 0.863, time 9.2 sec\n",
      "epoch 20, loss 0.0013, train acc 0.880, test acc 0.867, time 9.6 sec\n",
      "epoch 21, loss 0.0013, train acc 0.878, test acc 0.866, time 9.5 sec\n",
      "epoch 22, loss 0.0013, train acc 0.881, test acc 0.866, time 9.6 sec\n",
      "epoch 23, loss 0.0013, train acc 0.880, test acc 0.867, time 9.6 sec\n",
      "epoch 24, loss 0.0012, train acc 0.881, test acc 0.865, time 9.5 sec\n",
      "epoch 25, loss 0.0012, train acc 0.883, test acc 0.866, time 9.2 sec\n",
      "epoch 26, loss 0.0012, train acc 0.883, test acc 0.868, time 9.3 sec\n",
      "epoch 27, loss 0.0012, train acc 0.882, test acc 0.869, time 9.2 sec\n",
      "epoch 28, loss 0.0012, train acc 0.885, test acc 0.870, time 9.3 sec\n",
      "epoch 29, loss 0.0012, train acc 0.885, test acc 0.870, time 9.3 sec\n",
      "epoch 30, loss 0.0012, train acc 0.887, test acc 0.871, time 9.4 sec\n",
      "epoch 31, loss 0.0012, train acc 0.886, test acc 0.873, time 9.4 sec\n",
      "epoch 32, loss 0.0012, train acc 0.887, test acc 0.874, time 9.3 sec\n",
      "epoch 33, loss 0.0012, train acc 0.888, test acc 0.875, time 9.4 sec\n",
      "epoch 34, loss 0.0012, train acc 0.887, test acc 0.872, time 9.4 sec\n",
      "epoch 35, loss 0.0012, train acc 0.888, test acc 0.878, time 9.5 sec\n",
      "epoch 36, loss 0.0012, train acc 0.889, test acc 0.875, time 9.3 sec\n",
      "epoch 37, loss 0.0012, train acc 0.889, test acc 0.874, time 9.4 sec\n",
      "epoch 38, loss 0.0012, train acc 0.890, test acc 0.874, time 9.2 sec\n",
      "epoch 39, loss 0.0012, train acc 0.890, test acc 0.872, time 9.4 sec\n",
      "epoch 40, loss 0.0012, train acc 0.890, test acc 0.878, time 9.3 sec\n",
      "epoch 41, loss 0.0011, train acc 0.891, test acc 0.877, time 9.4 sec\n",
      "epoch 42, loss 0.0012, train acc 0.890, test acc 0.876, time 9.4 sec\n",
      "epoch 43, loss 0.0011, train acc 0.891, test acc 0.879, time 9.3 sec\n",
      "epoch 44, loss 0.0011, train acc 0.892, test acc 0.876, time 9.4 sec\n",
      "epoch 45, loss 0.0011, train acc 0.892, test acc 0.876, time 9.2 sec\n",
      "epoch 46, loss 0.0011, train acc 0.891, test acc 0.876, time 9.3 sec\n",
      "epoch 47, loss 0.0011, train acc 0.894, test acc 0.877, time 9.4 sec\n",
      "epoch 48, loss 0.0011, train acc 0.892, test acc 0.879, time 9.2 sec\n",
      "epoch 49, loss 0.0011, train acc 0.894, test acc 0.875, time 9.6 sec\n",
      "epoch 50, loss 0.0011, train acc 0.893, test acc 0.875, time 9.5 sec\n"
     ]
    }
   ],
   "source": [
    "lr, num_epochs = 0.001, 50\n",
    "trainer = torch.optim.Adam(model.parameters(), lr=lr)\n",
    "train(model, train_iter, test_iter, trainer, num_epochs, device)"
   ]
  },
  {
   "cell_type": "code",
   "execution_count": 49,
   "id": "5ee63aea",
   "metadata": {},
   "outputs": [
    {
     "name": "stdout",
     "output_type": "stream",
     "text": [
      "----------------------------------------------------------------\n",
      "        Layer (type)               Output Shape         Param #\n",
      "================================================================\n",
      "            Conv2d-1           [-1, 10, 24, 24]             260\n",
      "         AvgPool2d-2           [-1, 10, 12, 12]               0\n",
      "           Dropout-3           [-1, 10, 12, 12]               0\n",
      "            Conv2d-4             [-1, 20, 8, 8]           5,020\n",
      "       BatchNorm2d-5             [-1, 20, 8, 8]              40\n",
      "         AvgPool2d-6             [-1, 20, 4, 4]               0\n",
      "            Conv2d-7            [-1, 200, 1, 1]          64,200\n",
      "           Dropout-8            [-1, 200, 1, 1]               0\n",
      "              Tanh-9            [-1, 200, 1, 1]               0\n",
      "          Flatten-10                  [-1, 200]               0\n",
      "          Dropout-11                  [-1, 200]               0\n",
      "           Linear-12                  [-1, 100]          20,100\n",
      "             Tanh-13                  [-1, 100]               0\n",
      "      BatchNorm1d-14                  [-1, 100]             200\n",
      "           Linear-15                   [-1, 10]           1,010\n",
      "================================================================\n",
      "Total params: 90,830\n",
      "Trainable params: 90,830\n",
      "Non-trainable params: 0\n",
      "----------------------------------------------------------------\n",
      "Input size (MB): 0.00\n",
      "Forward/backward pass size (MB): 0.10\n",
      "Params size (MB): 0.35\n",
      "Estimated Total Size (MB): 0.45\n",
      "----------------------------------------------------------------\n"
     ]
    }
   ],
   "source": [
    "#remove max pooling and add more regularization\n",
    "model = torch.nn.Sequential(\n",
    "    torch.nn.Conv2d(1, 10, kernel_size=5, padding=0),\n",
    "    torch.nn.AvgPool2d(2, stride=2),\n",
    "    torch.nn.Dropout(0.5),\n",
    "    torch.nn.Conv2d(10, 20, kernel_size=5),\n",
    "    torch.nn.BatchNorm2d(20),\n",
    "    torch.nn.AvgPool2d(2, stride=2),\n",
    "    torch.nn.Conv2d(20, 200, kernel_size=4),\n",
    "    torch.nn.Dropout(0.5),\n",
    "    torch.nn.Tanh(),\n",
    "    torch.nn.Flatten(),\n",
    "    torch.nn.Dropout(0.5),\n",
    "    torch.nn.Linear(200, 100),\n",
    "    torch.nn.Tanh(),\n",
    "    torch.nn.BatchNorm1d(100),\n",
    "    torch.nn.Linear(100, 10)\n",
    ")\n",
    "summary(model, input_size=(1, 28, 28), device='cpu')"
   ]
  },
  {
   "cell_type": "code",
   "execution_count": 50,
   "id": "04ee561f",
   "metadata": {},
   "outputs": [],
   "source": [
    "model = model.to(device)"
   ]
  },
  {
   "cell_type": "code",
   "execution_count": 51,
   "id": "e46ca7ce",
   "metadata": {},
   "outputs": [
    {
     "name": "stdout",
     "output_type": "stream",
     "text": [
      "epoch 1, loss 0.0031, train acc 0.708, test acc 0.757, time 9.4 sec\n",
      "epoch 2, loss 0.0023, train acc 0.781, test acc 0.784, time 9.3 sec\n",
      "epoch 3, loss 0.0022, train acc 0.796, test acc 0.785, time 9.3 sec\n",
      "epoch 4, loss 0.0021, train acc 0.804, test acc 0.795, time 9.3 sec\n",
      "epoch 5, loss 0.0020, train acc 0.812, test acc 0.802, time 9.2 sec\n",
      "epoch 6, loss 0.0020, train acc 0.816, test acc 0.804, time 9.5 sec\n",
      "epoch 7, loss 0.0019, train acc 0.820, test acc 0.809, time 9.2 sec\n",
      "epoch 8, loss 0.0019, train acc 0.822, test acc 0.810, time 9.6 sec\n",
      "epoch 9, loss 0.0019, train acc 0.828, test acc 0.811, time 9.0 sec\n",
      "epoch 10, loss 0.0019, train acc 0.828, test acc 0.819, time 9.4 sec\n",
      "epoch 11, loss 0.0018, train acc 0.829, test acc 0.818, time 9.6 sec\n",
      "epoch 12, loss 0.0018, train acc 0.834, test acc 0.821, time 9.3 sec\n",
      "epoch 13, loss 0.0018, train acc 0.832, test acc 0.823, time 9.2 sec\n",
      "epoch 14, loss 0.0018, train acc 0.834, test acc 0.817, time 9.3 sec\n",
      "epoch 15, loss 0.0018, train acc 0.836, test acc 0.823, time 9.3 sec\n",
      "epoch 16, loss 0.0018, train acc 0.837, test acc 0.825, time 9.4 sec\n",
      "epoch 17, loss 0.0017, train acc 0.836, test acc 0.822, time 9.2 sec\n",
      "epoch 18, loss 0.0017, train acc 0.839, test acc 0.824, time 9.1 sec\n",
      "epoch 19, loss 0.0017, train acc 0.838, test acc 0.829, time 9.5 sec\n",
      "epoch 20, loss 0.0017, train acc 0.841, test acc 0.828, time 9.0 sec\n",
      "epoch 21, loss 0.0017, train acc 0.841, test acc 0.829, time 9.4 sec\n",
      "epoch 22, loss 0.0017, train acc 0.842, test acc 0.829, time 9.1 sec\n",
      "epoch 23, loss 0.0017, train acc 0.843, test acc 0.826, time 9.4 sec\n",
      "epoch 24, loss 0.0017, train acc 0.843, test acc 0.830, time 9.2 sec\n",
      "epoch 25, loss 0.0017, train acc 0.843, test acc 0.830, time 9.4 sec\n",
      "epoch 26, loss 0.0017, train acc 0.845, test acc 0.833, time 9.2 sec\n",
      "epoch 27, loss 0.0017, train acc 0.843, test acc 0.827, time 9.3 sec\n",
      "epoch 28, loss 0.0017, train acc 0.844, test acc 0.830, time 9.2 sec\n",
      "epoch 29, loss 0.0017, train acc 0.846, test acc 0.833, time 9.4 sec\n",
      "epoch 30, loss 0.0017, train acc 0.845, test acc 0.830, time 9.3 sec\n",
      "epoch 31, loss 0.0017, train acc 0.847, test acc 0.833, time 9.3 sec\n",
      "epoch 32, loss 0.0016, train acc 0.847, test acc 0.834, time 9.3 sec\n",
      "epoch 33, loss 0.0016, train acc 0.847, test acc 0.833, time 9.4 sec\n",
      "epoch 34, loss 0.0016, train acc 0.848, test acc 0.834, time 9.2 sec\n",
      "epoch 35, loss 0.0016, train acc 0.849, test acc 0.837, time 9.4 sec\n",
      "epoch 36, loss 0.0016, train acc 0.847, test acc 0.836, time 9.4 sec\n",
      "epoch 37, loss 0.0016, train acc 0.849, test acc 0.836, time 9.3 sec\n",
      "epoch 38, loss 0.0016, train acc 0.848, test acc 0.830, time 9.3 sec\n",
      "epoch 39, loss 0.0016, train acc 0.849, test acc 0.837, time 9.3 sec\n",
      "epoch 40, loss 0.0016, train acc 0.850, test acc 0.833, time 9.1 sec\n",
      "epoch 41, loss 0.0016, train acc 0.848, test acc 0.831, time 9.3 sec\n",
      "epoch 42, loss 0.0016, train acc 0.849, test acc 0.839, time 9.3 sec\n",
      "epoch 43, loss 0.0016, train acc 0.850, test acc 0.834, time 9.2 sec\n",
      "epoch 44, loss 0.0016, train acc 0.851, test acc 0.837, time 9.4 sec\n",
      "epoch 45, loss 0.0016, train acc 0.851, test acc 0.836, time 9.5 sec\n",
      "epoch 46, loss 0.0016, train acc 0.851, test acc 0.837, time 9.4 sec\n",
      "epoch 47, loss 0.0016, train acc 0.850, test acc 0.842, time 9.2 sec\n",
      "epoch 48, loss 0.0016, train acc 0.852, test acc 0.835, time 9.4 sec\n",
      "epoch 49, loss 0.0016, train acc 0.851, test acc 0.835, time 9.0 sec\n",
      "epoch 50, loss 0.0016, train acc 0.851, test acc 0.838, time 9.3 sec\n"
     ]
    }
   ],
   "source": [
    "lr, num_epochs = 0.001, 50\n",
    "trainer = torch.optim.Adam(model.parameters(), lr=lr)\n",
    "train(model, train_iter, test_iter, trainer, num_epochs, device)"
   ]
  },
  {
   "cell_type": "code",
   "execution_count": 53,
   "id": "5aa74e95",
   "metadata": {},
   "outputs": [],
   "source": [
    "from torch import nn"
   ]
  },
  {
   "cell_type": "markdown",
   "id": "66f2a950",
   "metadata": {},
   "source": [
    "try another architecture..."
   ]
  },
  {
   "cell_type": "markdown",
   "id": "7d058a0f",
   "metadata": {},
   "source": [
    "# AlexNet-like model"
   ]
  },
  {
   "cell_type": "code",
   "execution_count": 56,
   "id": "725d3b6e",
   "metadata": {},
   "outputs": [
    {
     "name": "stdout",
     "output_type": "stream",
     "text": [
      "----------------------------------------------------------------\n",
      "        Layer (type)               Output Shape         Param #\n",
      "================================================================\n",
      "            Conv2d-1           [-1, 96, 24, 24]           2,496\n",
      "              ReLU-2           [-1, 96, 24, 24]               0\n",
      "         MaxPool2d-3           [-1, 96, 12, 12]               0\n",
      "            Conv2d-4          [-1, 256, 12, 12]         614,656\n",
      "              ReLU-5          [-1, 256, 12, 12]               0\n",
      "         MaxPool2d-6            [-1, 256, 6, 6]               0\n",
      "            Conv2d-7            [-1, 384, 5, 5]       1,573,248\n",
      "              ReLU-8            [-1, 384, 5, 5]               0\n",
      "           Flatten-9                 [-1, 9600]               0\n",
      "           Linear-10                 [-1, 4800]      46,084,800\n",
      "             ReLU-11                 [-1, 4800]               0\n",
      "          Dropout-12                 [-1, 4800]               0\n",
      "           Linear-13                 [-1, 2400]      11,522,400\n",
      "             ReLU-14                 [-1, 2400]               0\n",
      "          Dropout-15                 [-1, 2400]               0\n",
      "           Linear-16                   [-1, 10]          24,010\n",
      "================================================================\n",
      "Total params: 59,821,610\n",
      "Trainable params: 59,821,610\n",
      "Non-trainable params: 0\n",
      "----------------------------------------------------------------\n",
      "Input size (MB): 0.00\n",
      "Forward/backward pass size (MB): 1.97\n",
      "Params size (MB): 228.20\n",
      "Estimated Total Size (MB): 230.17\n",
      "----------------------------------------------------------------\n"
     ]
    }
   ],
   "source": [
    "model = nn.Sequential(\n",
    "    nn.Conv2d(1, 96, kernel_size=5),\n",
    "    nn.ReLU(),\n",
    "    nn.MaxPool2d(2, stride=2),\n",
    "    nn.Conv2d(96, 256, kernel_size=5, padding=2),\n",
    "    nn.ReLU(),\n",
    "    nn.MaxPool2d(2, stride=2),\n",
    "    nn.Conv2d(256, 384, kernel_size=4, padding=1),\n",
    "    nn.ReLU(),\n",
    "    nn.Flatten(),\n",
    "    nn.Linear(9600, 4800),\n",
    "    nn.ReLU(),\n",
    "    nn.Dropout(0.5),\n",
    "    nn.Linear(4800, 2400),\n",
    "    nn.ReLU(),\n",
    "    nn.Dropout(0.5),\n",
    "    nn.Linear(2400, 10)\n",
    ")\n",
    "summary(model, input_size=(1, 28, 28), device='cpu')"
   ]
  },
  {
   "cell_type": "code",
   "execution_count": 61,
   "id": "abf4b418",
   "metadata": {},
   "outputs": [],
   "source": [
    "model = model.to(device)"
   ]
  },
  {
   "cell_type": "code",
   "execution_count": 62,
   "id": "8fbe2dfd",
   "metadata": {},
   "outputs": [
    {
     "name": "stdout",
     "output_type": "stream",
     "text": [
      "epoch 1, loss 0.0007, train acc 0.934, test acc 0.896, time 21.5 sec\n",
      "epoch 2, loss 0.0006, train acc 0.942, test acc 0.911, time 21.1 sec\n",
      "epoch 3, loss 0.0005, train acc 0.950, test acc 0.908, time 20.6 sec\n",
      "epoch 4, loss 0.0005, train acc 0.951, test acc 0.909, time 20.6 sec\n",
      "epoch 5, loss 0.0004, train acc 0.957, test acc 0.903, time 20.6 sec\n",
      "epoch 6, loss 0.0004, train acc 0.958, test acc 0.911, time 21.1 sec\n",
      "epoch 7, loss 0.0004, train acc 0.963, test acc 0.910, time 21.2 sec\n",
      "epoch 8, loss 0.0004, train acc 0.966, test acc 0.910, time 21.2 sec\n",
      "epoch 9, loss 0.0003, train acc 0.969, test acc 0.910, time 21.0 sec\n",
      "epoch 10, loss 0.0003, train acc 0.972, test acc 0.913, time 20.5 sec\n"
     ]
    }
   ],
   "source": [
    "lr, num_epochs = 0.001, 10\n",
    "trainer = torch.optim.Adam(model.parameters(), lr=lr)\n",
    "train(model, train_iter, test_iter, trainer, num_epochs, device)"
   ]
  },
  {
   "cell_type": "markdown",
   "id": "929f5da8",
   "metadata": {},
   "source": [
    "Finally!"
   ]
  },
  {
   "cell_type": "markdown",
   "id": "33f62ae6",
   "metadata": {},
   "source": [
    "Более глубокая сеть сразу же дала нужную точность"
   ]
  },
  {
   "cell_type": "code",
   "execution_count": null,
   "id": "fdbf9393",
   "metadata": {},
   "outputs": [],
   "source": []
  }
 ],
 "metadata": {
  "kernelspec": {
   "display_name": "Python 3 (ipykernel)",
   "language": "python",
   "name": "python3"
  },
  "language_info": {
   "codemirror_mode": {
    "name": "ipython",
    "version": 3
   },
   "file_extension": ".py",
   "mimetype": "text/x-python",
   "name": "python",
   "nbconvert_exporter": "python",
   "pygments_lexer": "ipython3",
   "version": "3.9.17"
  }
 },
 "nbformat": 4,
 "nbformat_minor": 5
}
