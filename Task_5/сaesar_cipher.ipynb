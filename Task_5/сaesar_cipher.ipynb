{
 "cells": [
  {
   "cell_type": "code",
   "execution_count": 63,
   "id": "8f5420f1",
   "metadata": {},
   "outputs": [],
   "source": [
    "import pandas as pd\n",
    "import time\n",
    "import torch"
   ]
  },
  {
   "cell_type": "markdown",
   "id": "88db666a",
   "metadata": {},
   "source": [
    "# Encoding/decoding algorithm"
   ]
  },
  {
   "cell_type": "code",
   "execution_count": 245,
   "id": "2d68a4f9",
   "metadata": {},
   "outputs": [],
   "source": [
    "letters = \"abcdefghijklmnopqrstuvwxyz .,!:;\\'\\\"?()\"\n",
    "letters_len = 26\n",
    "all_chats_len = len(letters)\n"
   ]
  },
  {
   "cell_type": "code",
   "execution_count": 246,
   "id": "d3d226c1",
   "metadata": {},
   "outputs": [],
   "source": [
    "def encode(text, k = 3):\n",
    "    return [letters[(letters.index(c) + k) % letters_len] if letters.index(c) < letters_len else c for c in text ]\n",
    "def decode(text, k = 3):\n",
    "    return [letters[(letters.index(c) - k) % letters_len] if letters.index(c) < letters_len else c for c in text ]\n",
    "\n",
    "def text_to_idx(text):\n",
    "    indices = torch.zeros(len(text))\n",
    "    for i in range(len(text)):\n",
    "        indices[i] = letters.index(text[i])\n",
    "    return indices.int()\n",
    "\n",
    "def idx_to_text(indices):\n",
    "    text = \"\"\n",
    "    for i in indices:\n",
    "        text += letters[int(i)]\n",
    "    return text\n",
    "\n",
    "def encode_idx(idx_tens, k = 3):\n",
    "    result = idx_tens.clone().detach()\n",
    "    mask1 = result < letters_len\n",
    "    result[mask1] += k\n",
    "    mask2 = mask1 & (result > letters_len - 1)\n",
    "    result[mask2] -= letters_len\n",
    "    return result\n",
    "\n",
    "def decode_idx(idx_tens, k = 3):\n",
    "    result = idx_tens.clone().detach()\n",
    "    mask1 = result < letters_len\n",
    "    result[mask1] -= k\n",
    "    mask2 = mask1 & (result < 0)\n",
    "    result[mask2] += letters_len\n",
    "    return result"
   ]
  },
  {
   "cell_type": "code",
   "execution_count": 247,
   "id": "fc642d44",
   "metadata": {},
   "outputs": [
    {
     "data": {
      "text/plain": [
       "tensor([ 0,  1,  2, 34], dtype=torch.int32)"
      ]
     },
     "execution_count": 247,
     "metadata": {},
     "output_type": "execute_result"
    }
   ],
   "source": [
    "indices = text_to_idx('abc?')\n",
    "indices"
   ]
  },
  {
   "cell_type": "code",
   "execution_count": 248,
   "id": "df054514",
   "metadata": {},
   "outputs": [
    {
     "data": {
      "text/plain": [
       "'abc?'"
      ]
     },
     "execution_count": 248,
     "metadata": {},
     "output_type": "execute_result"
    }
   ],
   "source": [
    "idx_to_text(indices)"
   ]
  },
  {
   "cell_type": "code",
   "execution_count": 249,
   "id": "6c00b8ff",
   "metadata": {},
   "outputs": [
    {
     "data": {
      "text/plain": [
       "['d', 'e', 'v']"
      ]
     },
     "execution_count": 249,
     "metadata": {},
     "output_type": "execute_result"
    }
   ],
   "source": [
    "encode(\"abs\")"
   ]
  },
  {
   "cell_type": "code",
   "execution_count": 250,
   "id": "07e8908a",
   "metadata": {},
   "outputs": [
    {
     "data": {
      "text/plain": [
       "['a', 'b', 's']"
      ]
     },
     "execution_count": 250,
     "metadata": {},
     "output_type": "execute_result"
    }
   ],
   "source": [
    "decode(\"dev\")"
   ]
  },
  {
   "cell_type": "code",
   "execution_count": 251,
   "id": "63cfc87e",
   "metadata": {},
   "outputs": [
    {
     "data": {
      "text/plain": [
       "tensor([ 3, 10, 35, 21, 31])"
      ]
     },
     "execution_count": 251,
     "metadata": {},
     "output_type": "execute_result"
    }
   ],
   "source": [
    "test = torch.randint(0, all_chats_len - 1, (5, ))\n",
    "test"
   ]
  },
  {
   "cell_type": "code",
   "execution_count": 252,
   "id": "ebeaf8cd",
   "metadata": {},
   "outputs": [
    {
     "data": {
      "text/plain": [
       "tensor([ 6, 13, 35, 24, 31])"
      ]
     },
     "execution_count": 252,
     "metadata": {},
     "output_type": "execute_result"
    }
   ],
   "source": [
    "encoded = encode_idx(test)\n",
    "encoded"
   ]
  },
  {
   "cell_type": "code",
   "execution_count": 253,
   "id": "3f23768b",
   "metadata": {},
   "outputs": [
    {
     "data": {
      "text/plain": [
       "tensor([ 3, 10, 35, 21, 31])"
      ]
     },
     "execution_count": 253,
     "metadata": {},
     "output_type": "execute_result"
    }
   ],
   "source": [
    "decode_idx(encoded)"
   ]
  },
  {
   "cell_type": "code",
   "execution_count": 254,
   "id": "dffacf37",
   "metadata": {},
   "outputs": [
    {
     "data": {
      "text/plain": [
       "'hello world!'"
      ]
     },
     "execution_count": 254,
     "metadata": {},
     "output_type": "execute_result"
    }
   ],
   "source": [
    "indices = text_to_idx(\"hello world!\")\n",
    "encoded = encode_idx(indices)\n",
    "decoded = decode_idx(encoded)\n",
    "idx_to_text(decoded)"
   ]
  },
  {
   "cell_type": "markdown",
   "id": "8d7c3380",
   "metadata": {},
   "source": [
    "# Create data"
   ]
  },
  {
   "cell_type": "code",
   "execution_count": 255,
   "id": "50f2a810",
   "metadata": {
    "scrolled": true
   },
   "outputs": [],
   "source": [
    "import random\n",
    "DATA_CHARS = 5000\n",
    "X_train = torch.randint(0, all_chats_len - 1, (DATA_CHARS, ))\n",
    "X_test = torch.randint(0, all_chats_len - 1, (int(0.4 * DATA_CHARS), ))"
   ]
  },
  {
   "cell_type": "code",
   "execution_count": 256,
   "id": "7570f510",
   "metadata": {},
   "outputs": [
    {
     "data": {
      "text/plain": [
       "torch.Size([4, 30])"
      ]
     },
     "execution_count": 256,
     "metadata": {},
     "output_type": "execute_result"
    }
   ],
   "source": [
    "embedding = torch.nn.Embedding(all_chats_len, 30)\n",
    "embedding(X_train[:4]).shape"
   ]
  },
  {
   "cell_type": "markdown",
   "id": "3e299fc5",
   "metadata": {},
   "source": [
    "# Create model"
   ]
  },
  {
   "cell_type": "code",
   "execution_count": 267,
   "id": "e51b3eca",
   "metadata": {},
   "outputs": [],
   "source": [
    "model = torch.nn.Sequential(\n",
    "    torch.nn.Embedding(all_chats_len, 128),\n",
    "    torch.nn.Linear(128, 64),\n",
    "    torch.nn.ReLU(),\n",
    "    torch.nn.Linear(64, all_chats_len)\n",
    ")"
   ]
  },
  {
   "cell_type": "code",
   "execution_count": 268,
   "id": "739ca5be",
   "metadata": {},
   "outputs": [],
   "source": [
    "loss = torch.nn.CrossEntropyLoss()\n",
    "optimizer = torch.optim.Adam(model.parameters(), lr=.05)\n",
    "BATCH_SIZE = 100"
   ]
  },
  {
   "cell_type": "code",
   "execution_count": 269,
   "id": "c62afc79",
   "metadata": {},
   "outputs": [
    {
     "name": "stdout",
     "output_type": "stream",
     "text": [
      "Epoch 0. Time: 0.066, Train loss: 0.121\n",
      "Epoch 1. Time: 0.070, Train loss: 0.000\n",
      "Epoch 2. Time: 0.070, Train loss: 0.000\n",
      "Epoch 3. Time: 0.070, Train loss: 0.000\n",
      "Epoch 4. Time: 0.069, Train loss: 0.000\n",
      "Epoch 5. Time: 0.075, Train loss: 0.000\n",
      "Epoch 6. Time: 0.066, Train loss: 0.000\n",
      "Epoch 7. Time: 0.074, Train loss: 0.000\n",
      "Epoch 8. Time: 0.068, Train loss: 0.000\n",
      "Epoch 9. Time: 0.068, Train loss: 0.000\n"
     ]
    }
   ],
   "source": [
    "for ep in range(10):\n",
    "    start = time.time()\n",
    "    train_loss = 0.\n",
    "    train_passed = 0\n",
    "    for i in range(int(len(X_train) / BATCH_SIZE)):\n",
    "        batch = X_train[i * BATCH_SIZE:(i + 1) * BATCH_SIZE]\n",
    "        Y = decode_idx(batch)\n",
    "        optimizer.zero_grad()\n",
    "        answers = model(batch)\n",
    "        l = loss(answers, Y)\n",
    "        train_loss += l.item()\n",
    "        l.backward()\n",
    "        optimizer.step()\n",
    "        train_passed += 1\n",
    "    print(\"Epoch {}. Time: {:.3f}, Train loss: {:.3f}\".format(ep, time.time() - start, train_loss / train_passed))"
   ]
  },
  {
   "cell_type": "markdown",
   "id": "4811626c",
   "metadata": {},
   "source": [
    "# Check accuracy"
   ]
  },
  {
   "cell_type": "code",
   "execution_count": 270,
   "id": "ed155e8c",
   "metadata": {},
   "outputs": [
    {
     "data": {
      "text/plain": [
       "tensor([11, 33, 16, 29, 29])"
      ]
     },
     "execution_count": 270,
     "metadata": {},
     "output_type": "execute_result"
    }
   ],
   "source": [
    "model(X_test[:5]).argmax(axis = 1)"
   ]
  },
  {
   "cell_type": "code",
   "execution_count": 271,
   "id": "26223d44",
   "metadata": {},
   "outputs": [
    {
     "data": {
      "text/plain": [
       "tensor([11, 33, 16, 29, 29])"
      ]
     },
     "execution_count": 271,
     "metadata": {},
     "output_type": "execute_result"
    }
   ],
   "source": [
    "decode_idx(X_test[:5])"
   ]
  },
  {
   "cell_type": "code",
   "execution_count": 272,
   "id": "c96a4029",
   "metadata": {},
   "outputs": [
    {
     "data": {
      "text/plain": [
       "1.0"
      ]
     },
     "execution_count": 272,
     "metadata": {},
     "output_type": "execute_result"
    }
   ],
   "source": [
    "Y_test = decode_idx(X_test)\n",
    "accuracy = float((model(X_test).argmax(axis=1) == Y_test).sum() / len(Y_test))\n",
    "accuracy"
   ]
  },
  {
   "cell_type": "code",
   "execution_count": 273,
   "id": "b4161616",
   "metadata": {},
   "outputs": [
    {
     "data": {
      "text/plain": [
       "'hello world ?'"
      ]
     },
     "execution_count": 273,
     "metadata": {},
     "output_type": "execute_result"
    }
   ],
   "source": [
    "phrase = \"hello world ?\"\n",
    "encoded = encode(phrase)\n",
    "indices = text_to_idx(encoded)\n",
    "decoded = model(indices).argmax(axis = 1)\n",
    "idx_to_text(decoded)"
   ]
  }
 ],
 "metadata": {
  "kernelspec": {
   "display_name": "Python 3 (ipykernel)",
   "language": "python",
   "name": "python3"
  },
  "language_info": {
   "codemirror_mode": {
    "name": "ipython",
    "version": 3
   },
   "file_extension": ".py",
   "mimetype": "text/x-python",
   "name": "python",
   "nbconvert_exporter": "python",
   "pygments_lexer": "ipython3",
   "version": "3.9.17"
  }
 },
 "nbformat": 4,
 "nbformat_minor": 5
}
