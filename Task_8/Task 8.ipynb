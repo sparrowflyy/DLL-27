{
 "cells": [
  {
   "cell_type": "markdown",
   "id": "756505b0",
   "metadata": {},
   "source": [
    "# Код генерации"
   ]
  },
  {
   "cell_type": "code",
   "execution_count": 1,
   "id": "184cd6eb",
   "metadata": {},
   "outputs": [],
   "source": [
    "import numpy as np\n",
    "from PIL import Image\n",
    "import torch.nn.functional as F\n",
    "class BaseDataProvider(object):\n",
    "    channels = 1\n",
    "    n_class = 2\n",
    "\n",
    "    def __init__(self, a_min=None, a_max=None):\n",
    "        self.a_min = a_min if a_min is not None else -np.inf\n",
    "        self.a_max = a_max if a_min is not None else np.inf\n",
    "\n",
    "    def _load_data_and_label(self):\n",
    "        data, label = self._next_data()\n",
    "\n",
    "        train_data = self._process_data(data)\n",
    "        labels = self._process_labels(label)\n",
    "\n",
    "        train_data, labels = self._post_process(train_data, labels)\n",
    "\n",
    "        nx = train_data.shape[1]\n",
    "        ny = train_data.shape[0]\n",
    "\n",
    "        return train_data.reshape(1, ny, nx, self.channels), labels.reshape(1, ny, nx, self.n_class),\n",
    "\n",
    "    def _process_labels(self, label):\n",
    "        if self.n_class == 2:\n",
    "            nx = label.shape[1]\n",
    "            ny = label.shape[0]\n",
    "            labels = np.zeros((ny, nx, self.n_class), dtype=np.float32)\n",
    "\n",
    "            # It is the responsibility of the child class to make sure that the label\n",
    "            # is a boolean array, but we a chech here just in case.\n",
    "            if label.dtype != 'bool':\n",
    "                label = label.astype(bool)\n",
    "\n",
    "            labels[..., 1] = label\n",
    "            labels[..., 0] = ~label\n",
    "            return labels\n",
    "\n",
    "        return label\n",
    "\n",
    "    def _process_data(self, data):\n",
    "        # normalization\n",
    "        data = np.clip(np.fabs(data), self.a_min, self.a_max)\n",
    "        data -= np.amin(data)\n",
    "\n",
    "        if np.amax(data) != 0:\n",
    "            data /= np.amax(data)\n",
    "\n",
    "        return data\n",
    "\n",
    "    def _post_process(self, data, labels):\n",
    "        \"\"\"\n",
    "        Post processing hook that can be used for data augmentation\n",
    "        :param data: the data array\n",
    "        :param labels: the label array\n",
    "        \"\"\"\n",
    "        return data, labels\n",
    "\n",
    "    def __call__(self, n):\n",
    "        train_data, labels = self._load_data_and_label()\n",
    "        nx = train_data.shape[1]\n",
    "        ny = train_data.shape[2]\n",
    "\n",
    "        X = np.zeros((n, nx, ny, self.channels))\n",
    "        Y = np.zeros((n, nx, ny, self.n_class))\n",
    "\n",
    "        X[0] = train_data\n",
    "        Y[0] = labels\n",
    "        for i in range(1, n):\n",
    "            train_data, labels = self._load_data_and_label()\n",
    "            X[i] = train_data\n",
    "            Y[i] = labels\n",
    "\n",
    "        return X, Y\n",
    "\n",
    "class GrayScaleDataProvider(BaseDataProvider):\n",
    "    channels = 1\n",
    "    n_class = 2\n",
    "    \n",
    "    def __init__(self, nx, ny, **kwargs):\n",
    "        super(GrayScaleDataProvider, self).__init__()\n",
    "        self.nx = nx\n",
    "        self.ny = ny\n",
    "        self.kwargs = kwargs\n",
    "        rect = kwargs.get(\"rectangles\", False)\n",
    "        if rect:\n",
    "            self.n_class=3\n",
    "        \n",
    "    def _next_data(self):\n",
    "        return create_image_and_label(self.nx, self.ny, **self.kwargs)\n",
    "\n",
    "class RgbDataProvider(BaseDataProvider):\n",
    "    channels = 3\n",
    "    n_class = 2\n",
    "    \n",
    "    def __init__(self, nx, ny, **kwargs):\n",
    "        super(RgbDataProvider, self).__init__()\n",
    "        self.nx = nx\n",
    "        self.ny = ny\n",
    "        self.kwargs = kwargs\n",
    "        rect = kwargs.get(\"rectangles\", False)\n",
    "        if rect:\n",
    "            self.n_class=3\n",
    "\n",
    "        \n",
    "    def _next_data(self):\n",
    "        data, label = create_image_and_label(self.nx, self.ny, **self.kwargs)\n",
    "        return to_rgb(data), label\n",
    "\n",
    "def create_image_and_label(nx,ny, cnt = 10, r_min = 3, r_max = 15, border = 2, sigma = 5, rectangles=False):\n",
    "    image = np.ones((nx, ny, 1))\n",
    "    label = np.zeros((nx, ny, 3), dtype=bool)\n",
    "    mask = np.zeros((nx, ny), dtype=bool)\n",
    "    for _ in range(cnt):\n",
    "        a = np.random.randint(border, nx-border)\n",
    "        b = np.random.randint(border, ny-border)\n",
    "        r = np.random.randint(r_min, r_max)\n",
    "        h = np.random.randint(1,255)\n",
    "\n",
    "        y,x = np.ogrid[-a:nx-a, -b:ny-b]\n",
    "        m = x*x + y*y <= r*r\n",
    "        mask = np.logical_or(mask, m)\n",
    "\n",
    "        image[m] = h\n",
    "\n",
    "    label[mask, 1] = 1\n",
    "    \n",
    "    if rectangles:\n",
    "        mask = np.zeros((nx, ny), dtype=bool)\n",
    "        for _ in range(cnt//2):\n",
    "            a = np.random.randint(nx)\n",
    "            b = np.random.randint(ny)\n",
    "            r =  np.random.randint(r_min, r_max)\n",
    "            h = np.random.randint(1,255)\n",
    "    \n",
    "            m = np.zeros((nx, ny), dtype=bool)\n",
    "            m[a:a+r, b:b+r] = True\n",
    "            mask = np.logical_or(mask, m)\n",
    "            image[m] = h\n",
    "            \n",
    "        label[mask, 2] = 1\n",
    "        \n",
    "        label[..., 0] = ~(np.logical_or(label[...,1], label[...,2]))\n",
    "    \n",
    "    image += np.random.normal(scale=sigma, size=image.shape)\n",
    "    image -= np.amin(image)\n",
    "    image /= np.amax(image)\n",
    "    \n",
    "    if rectangles:\n",
    "        return image, label\n",
    "    else:\n",
    "        return image, label[..., 1]\n",
    "\n",
    "\n",
    "\n",
    "\n",
    "def to_rgb(img):\n",
    "    img = img.reshape(img.shape[0], img.shape[1])\n",
    "    img[np.isnan(img)] = 0\n",
    "    img -= np.amin(img)\n",
    "    img /= np.amax(img)\n",
    "    blue = np.clip(4*(0.75-img), 0, 1)\n",
    "    red  = np.clip(4*(img-0.25), 0, 1)\n",
    "    green= np.clip(44*np.fabs(img-0.5)-1., 0, 1)\n",
    "    rgb = np.stack((red, green, blue), axis=2)\n",
    "    return rgb"
   ]
  },
  {
   "cell_type": "code",
   "execution_count": 2,
   "id": "007432b9",
   "metadata": {},
   "outputs": [],
   "source": [
    "import matplotlib.pyplot as plt"
   ]
  },
  {
   "cell_type": "code",
   "execution_count": 3,
   "id": "6bb30297",
   "metadata": {},
   "outputs": [],
   "source": [
    "nx = 80\n",
    "ny = 80"
   ]
  },
  {
   "cell_type": "code",
   "execution_count": 4,
   "id": "8c2a40bf",
   "metadata": {},
   "outputs": [],
   "source": [
    "generator = RgbDataProvider(nx, ny)"
   ]
  },
  {
   "cell_type": "code",
   "execution_count": 5,
   "id": "8a3bb3e2",
   "metadata": {},
   "outputs": [
    {
     "data": {
      "text/plain": [
       "(2, 80, 80, 3)"
      ]
     },
     "execution_count": 5,
     "metadata": {},
     "output_type": "execute_result"
    }
   ],
   "source": [
    "x_test, y_test = generator(2)\n",
    "x_test.shape"
   ]
  },
  {
   "cell_type": "code",
   "execution_count": 6,
   "id": "3b37f6cc",
   "metadata": {},
   "outputs": [
    {
     "data": {
      "text/plain": [
       "(2, 80, 80, 2)"
      ]
     },
     "execution_count": 6,
     "metadata": {},
     "output_type": "execute_result"
    }
   ],
   "source": [
    "y_test.shape"
   ]
  },
  {
   "cell_type": "code",
   "execution_count": 7,
   "id": "7ef71ba9",
   "metadata": {},
   "outputs": [
    {
     "data": {
      "text/plain": [
       "<matplotlib.image.AxesImage at 0x26a09a8bf10>"
      ]
     },
     "execution_count": 7,
     "metadata": {},
     "output_type": "execute_result"
    },
    {
     "data": {
      "image/png": "[encoded data removed]",
      "text/plain": [
       "<Figure size 800x400 with 2 Axes>"
      ]
     },
     "metadata": {},
     "output_type": "display_data"
    }
   ],
   "source": [
    "fig, ax = plt.subplots(1,2, sharey=True, figsize=(8,4))\n",
    "ax[0].imshow(x_test[0,...,0], aspect=\"auto\")\n",
    "ax[1].imshow(y_test[0,...,1], aspect=\"auto\")"
   ]
  },
  {
   "cell_type": "markdown",
   "id": "f0735651",
   "metadata": {},
   "source": [
    "# Создание датасета"
   ]
  },
  {
   "cell_type": "code",
   "execution_count": 8,
   "id": "da218db9",
   "metadata": {},
   "outputs": [],
   "source": [
    "import torch\n",
    "import torch.utils.data\n",
    "from torch import nn\n",
    "import torchvision.transforms.functional as FT\n",
    "import torchvision.transforms as transforms"
   ]
  },
  {
   "cell_type": "code",
   "execution_count": 9,
   "id": "c9f590db",
   "metadata": {},
   "outputs": [],
   "source": [
    "class ImgDataset(torch.utils.data.Dataset):\n",
    "    def __init__(self, size):\n",
    "        generator = RgbDataProvider(nx, ny)\n",
    "        X, y = generator(size)\n",
    "        #X - [size, nx, ny, 3] \n",
    "        #y = [size, nx, ny, 2]\n",
    "        self.imgs = X\n",
    "        self.masks = y\n",
    "\n",
    "    def __getitem__(self, i):\n",
    "        # https://github.com/pytorch/vision/issues/9#issuecomment-304224800\n",
    "        img = self.imgs[i]\n",
    "        mask = self.masks[i]\n",
    "        return torch.from_numpy(np.array(img, dtype=np.float32)).permute(2, 0, 1), torch.from_numpy(np.array(mask, dtype=np.float32)).permute(2, 0, 1)\n",
    "\n",
    "    def __len__(self):\n",
    "        return len(self.imgs)"
   ]
  },
  {
   "cell_type": "code",
   "execution_count": 10,
   "id": "7d7a9b42",
   "metadata": {},
   "outputs": [],
   "source": [
    "dataset_check = ImgDataset(10)"
   ]
  },
  {
   "cell_type": "code",
   "execution_count": 11,
   "id": "20cb7e8a",
   "metadata": {},
   "outputs": [
    {
     "name": "stdout",
     "output_type": "stream",
     "text": [
      "torch.Size([3, 80, 80])\n",
      "torch.Size([2, 80, 80])\n"
     ]
    },
    {
     "data": {
      "text/plain": [
       "<matplotlib.image.AxesImage at 0x26a0b6294c0>"
      ]
     },
     "execution_count": 11,
     "metadata": {},
     "output_type": "execute_result"
    },
    {
     "data": {
      "image/png": "[encoded data removed]",
      "text/plain": [
       "<Figure size 800x400 with 2 Axes>"
      ]
     },
     "metadata": {},
     "output_type": "display_data"
    }
   ],
   "source": [
    "img, mask = dataset_check[0]\n",
    "print(img.shape)\n",
    "print(mask.shape)\n",
    "fig, ax = plt.subplots(1,2, sharey=True, figsize=(8,4))\n",
    "ax[0].imshow(img[0, ...], aspect=\"auto\")\n",
    "ax[1].imshow(mask[1, ...], aspect=\"auto\")"
   ]
  },
  {
   "cell_type": "code",
   "execution_count": 12,
   "id": "c1a72529",
   "metadata": {},
   "outputs": [],
   "source": [
    "train_ds = ImgDataset(5000)\n",
    "test_ds = ImgDataset(500)"
   ]
  },
  {
   "cell_type": "code",
   "execution_count": 13,
   "id": "ddeda486",
   "metadata": {},
   "outputs": [],
   "source": [
    "class param:\n",
    "    img_size = (80, 80)\n",
    "    bs = 8\n",
    "    lr = 0.001\n",
    "    epochs = 10\n",
    "    unet_depth = 5\n",
    "    unet_start_filters = 8\n",
    "    log_interval = 70 # less then len(train_dl)"
   ]
  },
  {
   "cell_type": "code",
   "execution_count": 14,
   "id": "d3f8ba4b",
   "metadata": {},
   "outputs": [],
   "source": [
    "train_dl = torch.utils.data.DataLoader(train_ds,\n",
    "                      batch_size=param.bs,\n",
    "                      shuffle=True,\n",
    "                      pin_memory=torch.cuda.is_available())\n",
    "val_dl = torch.utils.data.DataLoader(test_ds,\n",
    "                    batch_size=param.bs,\n",
    "                    shuffle=False,\n",
    "                    pin_memory=torch.cuda.is_available())"
   ]
  },
  {
   "cell_type": "code",
   "execution_count": 15,
   "id": "c244f33b",
   "metadata": {},
   "outputs": [
    {
     "data": {
      "text/plain": [
       "device(type='cuda')"
      ]
     },
     "execution_count": 15,
     "metadata": {},
     "output_type": "execute_result"
    }
   ],
   "source": [
    "device = torch.device(\"cuda\" if torch.cuda.is_available() else \"cpu\")\n",
    "device"
   ]
  },
  {
   "cell_type": "markdown",
   "id": "b29a9de7",
   "metadata": {},
   "source": [
    "# Модель (взята с лекции)"
   ]
  },
  {
   "cell_type": "code",
   "execution_count": 16,
   "id": "46a4a0ec",
   "metadata": {},
   "outputs": [],
   "source": [
    "def conv1x1(in_channels, out_channels, groups=1):\n",
    "    return nn.Conv2d(in_channels,\n",
    "                     out_channels,\n",
    "                     kernel_size=1,\n",
    "                     groups=groups,\n",
    "                     stride=1)\n",
    "\n",
    "def conv3x3(in_channels, out_channels, stride=1, padding=1, bias=True, groups=1):\n",
    "    return nn.Conv2d(in_channels,\n",
    "                     out_channels,\n",
    "                     kernel_size=3,\n",
    "                     stride=stride,\n",
    "                     padding=padding,\n",
    "                     bias=bias,\n",
    "                     groups=groups)\n",
    "\n",
    "def upconv2x2(in_channels, out_channels, mode='transpose'):\n",
    "    if mode == 'transpose':\n",
    "        return nn.ConvTranspose2d(in_channels,\n",
    "                                  out_channels,\n",
    "                                  kernel_size=2,\n",
    "                                  stride=2)\n",
    "    else:\n",
    "        return nn.Sequential(\n",
    "            nn.Upsample(mode='bilinear', scale_factor=2),\n",
    "            conv1x1(in_channels, out_channels))\n",
    "class DownConv(nn.Module):\n",
    "    \"\"\"\n",
    "    A helper Module that performs 2 convolutions and 1 MaxPool.\n",
    "    A ReLU activation follows each convolution.\n",
    "    \"\"\"\n",
    "    def __init__(self, in_channels, out_channels, pooling=True):\n",
    "        super(DownConv, self).__init__()\n",
    "\n",
    "        self.in_channels = in_channels\n",
    "        self.out_channels = out_channels\n",
    "        self.pooling = pooling\n",
    "\n",
    "        self.conv1 = conv3x3(self.in_channels, self.out_channels)\n",
    "        self.conv2 = conv3x3(self.out_channels, self.out_channels)\n",
    "\n",
    "        if self.pooling:\n",
    "            self.pool = nn.MaxPool2d(kernel_size=2, stride=2)\n",
    "\n",
    "    def forward(self, x):\n",
    "        x = F.relu(self.conv1(x))\n",
    "        x = F.relu(self.conv2(x))\n",
    "        before_pool = x\n",
    "        if self.pooling:\n",
    "            x = self.pool(x)\n",
    "        return x, before_pool\n",
    "\n",
    "class UpConv(nn.Module):\n",
    "    \"\"\"\n",
    "    A helper Module that performs 2 convolutions and 1 UpConvolution.\n",
    "    A ReLU activation follows each convolution.\n",
    "    \"\"\"\n",
    "    def __init__(self,\n",
    "                 in_channels,\n",
    "                 out_channels,\n",
    "                 merge_mode='concat',\n",
    "                 up_mode='transpose'):\n",
    "        super(UpConv, self).__init__()\n",
    "\n",
    "        self.in_channels = in_channels\n",
    "        self.out_channels = out_channels\n",
    "        self.merge_mode = merge_mode\n",
    "        self.up_mode = up_mode\n",
    "\n",
    "        self.upconv = upconv2x2(self.in_channels,\n",
    "                                self.out_channels,\n",
    "                                mode=self.up_mode)\n",
    "\n",
    "        if self.merge_mode == 'concat':\n",
    "            self.conv1 = conv3x3(2*self.out_channels,\n",
    "                                 self.out_channels)\n",
    "        else:\n",
    "            # num of input channels to conv2 is same\n",
    "            self.conv1 = conv3x3(self.out_channels, self.out_channels)\n",
    "\n",
    "        self.conv2 = conv3x3(self.out_channels, self.out_channels)\n",
    "\n",
    "    def forward(self, from_down, from_up):\n",
    "        \"\"\" Forward pass\n",
    "        Arguments:\n",
    "            from_down: tensor from the encoder pathway\n",
    "            from_up: upconv'd tensor from the decoder pathway\n",
    "        \"\"\"\n",
    "        from_up = self.upconv(from_up)\n",
    "        if self.merge_mode == 'concat':\n",
    "            x = torch.cat((from_up, from_down), 1)\n",
    "        else:\n",
    "            x = from_up + from_down\n",
    "        x = F.relu(self.conv1(x))\n",
    "        x = F.relu(self.conv2(x))\n",
    "        return x\n",
    "class UNet(nn.Module):\n",
    "    \"\"\" `UNet` class is based on https://arxiv.org/abs/1505.04597\n",
    "    The U-Net is a convolutional encoder-decoder neural network.\n",
    "    Contextual spatial information (from the decoding,\n",
    "    expansive pathway) about an input tensor is merged with\n",
    "    information representing the localization of details\n",
    "    (from the encoding, compressive pathway).\n",
    "    Modifications to the original paper:\n",
    "    (1) padding is used in 3x3 convolutions to prevent loss\n",
    "        of border pixels\n",
    "    (2) merging outputs does not require cropping due to (1)\n",
    "    (3) residual connections can be used by specifying\n",
    "        UNet(merge_mode='add')\n",
    "    (4) if non-parametric upsampling is used in the decoder\n",
    "        pathway (specified by upmode='upsample'), then an\n",
    "        additional 1x1 2d convolution occurs after upsampling\n",
    "        to reduce channel dimensionality by a factor of 2.\n",
    "        This channel halving happens with the convolution in\n",
    "        the tranpose convolution (specified by upmode='transpose')\n",
    "    \"\"\"\n",
    "\n",
    "    def __init__(self, num_classes, in_channels=3, depth=5,\n",
    "                 start_filts=64, up_mode='transpose',\n",
    "                 merge_mode='concat'):\n",
    "        \"\"\"\n",
    "        Arguments:\n",
    "            in_channels: int, number of channels in the input tensor.\n",
    "                Default is 3 for RGB images.\n",
    "            depth: int, number of MaxPools in the U-Net.\n",
    "            start_filts: int, number of convolutional filters for the\n",
    "                first conv.\n",
    "            up_mode: string, type of upconvolution. Choices: 'transpose'\n",
    "                for transpose convolution or 'upsample' for nearest neighbour\n",
    "                upsampling.\n",
    "        \"\"\"\n",
    "        super(UNet, self).__init__()\n",
    "\n",
    "        if up_mode in ('transpose', 'upsample'):\n",
    "            self.up_mode = up_mode\n",
    "        else:\n",
    "            raise ValueError(\"\\\"{}\\\" is not a valid mode for \"\n",
    "                             \"upsampling. Only \\\"transpose\\\" and \"\n",
    "                             \"\\\"upsample\\\" are allowed.\".format(up_mode))\n",
    "\n",
    "        if merge_mode in ('concat', 'add'):\n",
    "            self.merge_mode = merge_mode\n",
    "        else:\n",
    "            raise ValueError(\"\\\"{}\\\" is not a valid mode for\"\n",
    "                             \"merging up and down paths. \"\n",
    "                             \"Only \\\"concat\\\" and \"\n",
    "                             \"\\\"add\\\" are allowed.\".format(up_mode))\n",
    "\n",
    "        # NOTE: up_mode 'upsample' is incompatible with merge_mode 'add'\n",
    "        if self.up_mode == 'upsample' and self.merge_mode == 'add':\n",
    "            raise ValueError(\"up_mode \\\"upsample\\\" is incompatible \"\n",
    "                             \"with merge_mode \\\"add\\\" at the moment \"\n",
    "                             \"because it doesn't make sense to use \"\n",
    "                             \"nearest neighbour to reduce \"\n",
    "                             \"depth channels (by half).\")\n",
    "\n",
    "        self.num_classes = num_classes\n",
    "        self.in_channels = in_channels\n",
    "        self.start_filts = start_filts\n",
    "        self.depth = depth\n",
    "\n",
    "        self.down_convs = []\n",
    "        self.up_convs = []\n",
    "\n",
    "        # create the encoder pathway and add to a list\n",
    "        for i in range(depth):\n",
    "            ins = self.in_channels if i == 0 else outs\n",
    "            outs = self.start_filts*(2**i)\n",
    "            pooling = True if i < depth-1 else False\n",
    "\n",
    "            down_conv = DownConv(ins, outs, pooling=pooling)\n",
    "            self.down_convs.append(down_conv)\n",
    "\n",
    "        # create the decoder pathway and add to a list\n",
    "        # - careful! decoding only requires depth-1 blocks\n",
    "        for i in range(depth-1):\n",
    "            ins = outs\n",
    "            outs = ins // 2\n",
    "            up_conv = UpConv(ins, outs, up_mode=up_mode,\n",
    "                merge_mode=merge_mode)\n",
    "            self.up_convs.append(up_conv)\n",
    "\n",
    "        self.conv_final = conv1x1(outs, self.num_classes)\n",
    "\n",
    "        # add the list of modules to current module\n",
    "        self.down_convs = nn.ModuleList(self.down_convs)\n",
    "        self.up_convs = nn.ModuleList(self.up_convs)\n",
    "\n",
    "        self.reset_params()\n",
    "\n",
    "    @staticmethod\n",
    "    def weight_init(m):\n",
    "        if isinstance(m, nn.Conv2d):\n",
    "            nn.init.xavier_normal(m.weight)\n",
    "            nn.init.constant(m.bias, 0)\n",
    "\n",
    "\n",
    "    def reset_params(self):\n",
    "        for i, m in enumerate(self.modules()):\n",
    "            self.weight_init(m)\n",
    "\n",
    "    def forward(self, x):\n",
    "        encoder_outs = []\n",
    "\n",
    "        # encoder pathway, save outputs for merging\n",
    "        for i, module in enumerate(self.down_convs):\n",
    "            x, before_pool = module(x)\n",
    "            encoder_outs.append(before_pool)\n",
    "\n",
    "        for i, module in enumerate(self.up_convs):\n",
    "            before_pool = encoder_outs[-(i+2)]\n",
    "            x = module(before_pool, x)\n",
    "\n",
    "        # No softmax is used. This means you need to use\n",
    "        # nn.CrossEntropyLoss is your training script,\n",
    "        # as this module includes a softmax already.\n",
    "        x = self.conv_final(x)\n",
    "        return x"
   ]
  },
  {
   "cell_type": "code",
   "execution_count": 17,
   "id": "9c453f2d",
   "metadata": {},
   "outputs": [
    {
     "name": "stderr",
     "output_type": "stream",
     "text": [
      "C:\\Users\\nik\\AppData\\Local\\Temp\\ipykernel_9092\\216385213.py:194: UserWarning: nn.init.xavier_normal is now deprecated in favor of nn.init.xavier_normal_.\n",
      "  nn.init.xavier_normal(m.weight)\n",
      "C:\\Users\\nik\\AppData\\Local\\Temp\\ipykernel_9092\\216385213.py:195: UserWarning: nn.init.constant is now deprecated in favor of nn.init.constant_.\n",
      "  nn.init.constant(m.bias, 0)\n"
     ]
    }
   ],
   "source": [
    "#2 classes - circle and not circle\n",
    "model = UNet(2,\n",
    "             depth=param.unet_depth,\n",
    "             start_filts=param.unet_start_filters,\n",
    "             merge_mode='concat').to(device)"
   ]
  },
  {
   "cell_type": "code",
   "execution_count": 18,
   "id": "3dd602e7",
   "metadata": {},
   "outputs": [],
   "source": [
    "optim = torch.optim.Adam(model.parameters(), lr=param.lr)"
   ]
  },
  {
   "cell_type": "code",
   "execution_count": 19,
   "id": "88d4fe81",
   "metadata": {},
   "outputs": [],
   "source": [
    "def get_loss(dl, model):\n",
    "    loss = 0\n",
    "    for X, y in dl:\n",
    "        X, y = X.to(device), y.to(device)\n",
    "        output = model(X)\n",
    "        loss += F.cross_entropy(output, y).item()\n",
    "    loss = loss / len(dl)\n",
    "    return loss\n",
    "\n",
    "iters = []\n",
    "train_losses = []\n",
    "val_losses = []\n",
    "\n",
    "it = 0\n",
    "min_loss = np.inf\n",
    "\n",
    "model.train()\n",
    "for epoch in range(param.epochs):\n",
    "    for i, (X, y) in enumerate(train_dl):\n",
    "        X = X.to(device)  # [N, 3, 80, 80]\n",
    "\n",
    "        y = y.to(device)  # [N, H, W] with class indices (0, 1)\n",
    "\n",
    "        output = model(X)  # [N, 2, H, W]\n",
    "\n",
    "        loss = F.cross_entropy(output, y)\n",
    "        \n",
    "        optim.zero_grad()\n",
    "        loss.backward()\n",
    "        optim.step()\n",
    "\n",
    "        if (i + 1) % param.log_interval == 0:\n",
    "            it += param.log_interval * param.bs\n",
    "            iters.append(it)\n",
    "            train_losses.append(loss.item())\n",
    "\n",
    "            model.eval()\n",
    "            val_loss = get_loss(val_dl, model)\n",
    "            model.train()\n",
    "            val_losses.append(val_loss)\n",
    "\n",
    "\n",
    "model.eval()\n",
    "val_loss = get_loss(val_dl, model)"
   ]
  },
  {
   "cell_type": "code",
   "execution_count": 20,
   "id": "490c59a0",
   "metadata": {},
   "outputs": [
    {
     "data": {
      "image/png": "[encoded data removed]",
      "text/plain": [
       "<Figure size 640x480 with 1 Axes>"
      ]
     },
     "metadata": {},
     "output_type": "display_data"
    }
   ],
   "source": [
    "plt.plot(iters, train_losses)\n",
    "plt.plot(iters, val_losses)\n",
    "plt.show()"
   ]
  },
  {
   "cell_type": "code",
   "execution_count": 21,
   "id": "76711bbb",
   "metadata": {},
   "outputs": [],
   "source": [
    "model.eval()\n",
    "for X, masks in val_dl:\n",
    "    X = X.to(device)\n",
    "    output = model(X)\n",
    "    break\n"
   ]
  },
  {
   "cell_type": "code",
   "execution_count": 28,
   "id": "7ef166fb",
   "metadata": {},
   "outputs": [
    {
     "data": {
      "image/png": "[encoded data removed]",
      "text/plain": [
       "<Figure size 1200x400 with 3 Axes>"
      ]
     },
     "metadata": {},
     "output_type": "display_data"
    }
   ],
   "source": [
    "num_item = 5\n",
    "image, mask, predicted = X[num_item],  masks[num_item], output[num_item, 1]\n",
    "plt.figure(figsize=(12,4))\n",
    "plt.subplot(131) \n",
    "plt.imshow(image.permute(1,2,0)[...,0].cpu())\n",
    "plt.subplot(132)\n",
    "plt.imshow(mask.cpu()[0, :, :], cmap='gray')\n",
    "plt.subplot(133)\n",
    "plt.imshow(predicted.detach().cpu(), cmap='gray')\n",
    "plt.show()"
   ]
  },
  {
   "cell_type": "code",
   "execution_count": null,
   "id": "e1536e44",
   "metadata": {},
   "outputs": [],
   "source": []
  },
  {
   "cell_type": "code",
   "execution_count": null,
   "id": "a3066a03",
   "metadata": {},
   "outputs": [],
   "source": []
  },
  {
   "cell_type": "code",
   "execution_count": null,
   "id": "bb463832",
   "metadata": {},
   "outputs": [],
   "source": []
  },
  {
   "cell_type": "code",
   "execution_count": null,
   "id": "3057246f",
   "metadata": {},
   "outputs": [],
   "source": []
  },
  {
   "cell_type": "code",
   "execution_count": null,
   "id": "f3109f66",
   "metadata": {},
   "outputs": [],
   "source": []
  },
  {
   "cell_type": "code",
   "execution_count": null,
   "id": "2ba2670f",
   "metadata": {},
   "outputs": [],
   "source": []
  },
  {
   "cell_type": "code",
   "execution_count": null,
   "id": "401d365b",
   "metadata": {},
   "outputs": [],
   "source": []
  },
  {
   "cell_type": "code",
   "execution_count": null,
   "id": "cff5c718",
   "metadata": {},
   "outputs": [],
   "source": []
  },
  {
   "cell_type": "code",
   "execution_count": null,
   "id": "fdae4057",
   "metadata": {},
   "outputs": [],
   "source": []
  },
  {
   "cell_type": "code",
   "execution_count": null,
   "id": "a8d253ce",
   "metadata": {},
   "outputs": [],
   "source": []
  },
  {
   "cell_type": "code",
   "execution_count": null,
   "id": "81673064",
   "metadata": {},
   "outputs": [],
   "source": []
  }
 ],
 "metadata": {
  "kernelspec": {
   "display_name": "Python 3 (ipykernel)",
   "language": "python",
   "name": "python3"
  },
  "language_info": {
   "codemirror_mode": {
    "name": "ipython",
    "version": 3
   },
   "file_extension": ".py",
   "mimetype": "text/x-python",
   "name": "python",
   "nbconvert_exporter": "python",
   "pygments_lexer": "ipython3",
   "version": "3.9.17"
  }
 },
 "nbformat": 4,
 "nbformat_minor": 5
}
