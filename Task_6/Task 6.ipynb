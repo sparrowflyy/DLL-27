{
 "cells": [
  {
   "cell_type": "code",
   "execution_count": 1,
   "id": "4d4ff7fd",
   "metadata": {},
   "outputs": [],
   "source": [
    "import pandas as pd\n",
    "import time\n",
    "import torch"
   ]
  },
  {
   "cell_type": "markdown",
   "id": "4ce11ecd",
   "metadata": {},
   "source": [
    "# Data creation"
   ]
  },
  {
   "cell_type": "code",
   "execution_count": 2,
   "id": "aa3080f4",
   "metadata": {},
   "outputs": [],
   "source": [
    "import random\n",
    "def gen_data(data_len):\n",
    "    X = torch.randint(0, 9, (data_len, ))\n",
    "    Y = torch.zeros(data_len).type(torch.int64)\n",
    "    x1 = X[0]\n",
    "    Y[0] = x1\n",
    "    for i in range(1, len(X)):\n",
    "        Y[i] = X[i] + x1\n",
    "        if Y[i] >= 10:\n",
    "            Y[i] -= 10\n",
    "    return X,Y\n",
    "X1,Y1 = gen_data(25)\n",
    "X2,Y2 = gen_data(75)\n",
    "X3,Y3 = gen_data(150)\n",
    "X = [X1, X2, X3]\n",
    "Y = [Y1, Y2, Y3]\n"
   ]
  },
  {
   "cell_type": "code",
   "execution_count": 3,
   "id": "928ea7c6",
   "metadata": {},
   "outputs": [],
   "source": [
    "VOCAB_LEN = 10\n",
    "BATCH_SIZE = 5\n",
    "EMBEDDING_SIZE = 15\n",
    "HIDDEN_SIZE = 10"
   ]
  },
  {
   "cell_type": "markdown",
   "id": "5e6889a5",
   "metadata": {},
   "source": [
    "# Testing models framework"
   ]
  },
  {
   "cell_type": "code",
   "execution_count": 4,
   "id": "8a14f3b1",
   "metadata": {},
   "outputs": [],
   "source": [
    "def test_model(model, optimizer, loss_data):\n",
    "    for i in range(3):\n",
    "        x = X[i]\n",
    "        y = Y[i]\n",
    "        print(\"Length of data: {}\".format(len(x)))\n",
    "        for ep in range(20):\n",
    "            train_loss = 0.\n",
    "            train_passed = 0\n",
    "            for i in range(int(len(x) / BATCH_SIZE)):\n",
    "                X_batch = x[i * BATCH_SIZE : (i + 1) * BATCH_SIZE]\n",
    "                Y_batch = y[i * BATCH_SIZE : (i + 1) * BATCH_SIZE]\n",
    "                optimizer.zero_grad()\n",
    "                answers = model.forward(X_batch)\n",
    "                loss = criterion(answers, Y_batch)\n",
    "                train_loss += loss.item()\n",
    "                loss.backward()\n",
    "                optimizer.step()\n",
    "                train_passed += 1\n",
    "            print(\"Epoch {}., Train loss: {:.3f}\".format(ep, train_loss / train_passed))\n",
    "        loss_data.append(train_loss / train_passed)\n",
    "        accuracy = float((model(x).argmax(axis=1) == y).sum() / len(y))\n",
    "        print(\"Accuracy: {:.3f}\".format(accuracy))\n",
    "        optimizer.zero_grad()\n",
    "        for layer in model.children():\n",
    "            if hasattr(layer, 'reset_parameters'):\n",
    "                layer.reset_parameters()\n",
    "\n",
    "class Network(torch.nn.Module):\n",
    "    def __init__(self, rnnCLass):\n",
    "        super().__init__()\n",
    "        self.embedding = torch.nn.Embedding(VOCAB_LEN, EMBEDDING_SIZE)\n",
    "        self.hidden = rnnCLass(EMBEDDING_SIZE, HIDDEN_SIZE, batch_first = True)\n",
    "        self.output = torch.nn.Linear(HIDDEN_SIZE, VOCAB_LEN)\n",
    "    def forward(self, numbers, state=None):\n",
    "        x = self.embedding(numbers)\n",
    "        x, s = self.hidden(x)\n",
    "        return self.output(x)"
   ]
  },
  {
   "cell_type": "code",
   "execution_count": 5,
   "id": "494c73e4",
   "metadata": {},
   "outputs": [],
   "source": [
    "criterion = torch.nn.CrossEntropyLoss()\n"
   ]
  },
  {
   "cell_type": "markdown",
   "id": "bc24d560",
   "metadata": {},
   "source": [
    "# RNN"
   ]
  },
  {
   "cell_type": "code",
   "execution_count": 6,
   "id": "c82738c4",
   "metadata": {},
   "outputs": [
    {
     "name": "stdout",
     "output_type": "stream",
     "text": [
      "Length of data: 25\n",
      "Epoch 0., Train loss: 2.450\n",
      "Epoch 1., Train loss: 2.446\n",
      "Epoch 2., Train loss: 2.443\n",
      "Epoch 3., Train loss: 2.439\n",
      "Epoch 4., Train loss: 2.435\n",
      "Epoch 5., Train loss: 2.431\n",
      "Epoch 6., Train loss: 2.428\n",
      "Epoch 7., Train loss: 2.424\n",
      "Epoch 8., Train loss: 2.420\n",
      "Epoch 9., Train loss: 2.417\n",
      "Epoch 10., Train loss: 2.413\n",
      "Epoch 11., Train loss: 2.409\n",
      "Epoch 12., Train loss: 2.405\n",
      "Epoch 13., Train loss: 2.402\n",
      "Epoch 14., Train loss: 2.398\n",
      "Epoch 15., Train loss: 2.394\n",
      "Epoch 16., Train loss: 2.391\n",
      "Epoch 17., Train loss: 2.387\n",
      "Epoch 18., Train loss: 2.383\n",
      "Epoch 19., Train loss: 2.380\n",
      "Accuracy: 0.240\n",
      "Length of data: 75\n",
      "Epoch 0., Train loss: 2.397\n",
      "Epoch 1., Train loss: 2.389\n",
      "Epoch 2., Train loss: 2.381\n",
      "Epoch 3., Train loss: 2.373\n",
      "Epoch 4., Train loss: 2.366\n",
      "Epoch 5., Train loss: 2.358\n",
      "Epoch 6., Train loss: 2.350\n",
      "Epoch 7., Train loss: 2.342\n",
      "Epoch 8., Train loss: 2.335\n",
      "Epoch 9., Train loss: 2.327\n",
      "Epoch 10., Train loss: 2.320\n",
      "Epoch 11., Train loss: 2.312\n",
      "Epoch 12., Train loss: 2.305\n",
      "Epoch 13., Train loss: 2.297\n",
      "Epoch 14., Train loss: 2.290\n",
      "Epoch 15., Train loss: 2.283\n",
      "Epoch 16., Train loss: 2.275\n",
      "Epoch 17., Train loss: 2.268\n",
      "Epoch 18., Train loss: 2.261\n",
      "Epoch 19., Train loss: 2.253\n",
      "Accuracy: 0.147\n",
      "Length of data: 150\n",
      "Epoch 0., Train loss: 2.465\n",
      "Epoch 1., Train loss: 2.444\n",
      "Epoch 2., Train loss: 2.423\n",
      "Epoch 3., Train loss: 2.402\n",
      "Epoch 4., Train loss: 2.381\n",
      "Epoch 5., Train loss: 2.360\n",
      "Epoch 6., Train loss: 2.340\n",
      "Epoch 7., Train loss: 2.319\n",
      "Epoch 8., Train loss: 2.299\n",
      "Epoch 9., Train loss: 2.279\n",
      "Epoch 10., Train loss: 2.259\n",
      "Epoch 11., Train loss: 2.240\n",
      "Epoch 12., Train loss: 2.220\n",
      "Epoch 13., Train loss: 2.201\n",
      "Epoch 14., Train loss: 2.182\n",
      "Epoch 15., Train loss: 2.163\n",
      "Epoch 16., Train loss: 2.144\n",
      "Epoch 17., Train loss: 2.126\n",
      "Epoch 18., Train loss: 2.108\n",
      "Epoch 19., Train loss: 2.090\n",
      "Accuracy: 0.347\n"
     ]
    },
    {
     "data": {
      "text/plain": [
       "[2.379734659194946, 2.253474966684977, 2.0897652824719746]"
      ]
     },
     "execution_count": 6,
     "metadata": {},
     "output_type": "execute_result"
    }
   ],
   "source": [
    "RNN = Network(torch.nn.RNN)\n",
    "optimizer = torch.optim.SGD(RNN.parameters(), lr=.001)\n",
    "loss_RNN = []\n",
    "test_model(RNN, optimizer, loss_RNN)\n",
    "loss_RNN"
   ]
  },
  {
   "cell_type": "markdown",
   "id": "658e30ae",
   "metadata": {},
   "source": [
    "# LSTM"
   ]
  },
  {
   "cell_type": "code",
   "execution_count": 7,
   "id": "affa43f3",
   "metadata": {},
   "outputs": [
    {
     "name": "stdout",
     "output_type": "stream",
     "text": [
      "Length of data: 25\n",
      "Epoch 0., Train loss: 2.324\n",
      "Epoch 1., Train loss: 2.324\n",
      "Epoch 2., Train loss: 2.323\n",
      "Epoch 3., Train loss: 2.323\n",
      "Epoch 4., Train loss: 2.322\n",
      "Epoch 5., Train loss: 2.322\n",
      "Epoch 6., Train loss: 2.321\n",
      "Epoch 7., Train loss: 2.321\n",
      "Epoch 8., Train loss: 2.320\n",
      "Epoch 9., Train loss: 2.320\n",
      "Epoch 10., Train loss: 2.319\n",
      "Epoch 11., Train loss: 2.319\n",
      "Epoch 12., Train loss: 2.318\n",
      "Epoch 13., Train loss: 2.318\n",
      "Epoch 14., Train loss: 2.317\n",
      "Epoch 15., Train loss: 2.317\n",
      "Epoch 16., Train loss: 2.316\n",
      "Epoch 17., Train loss: 2.316\n",
      "Epoch 18., Train loss: 2.315\n",
      "Epoch 19., Train loss: 2.315\n",
      "Accuracy: 0.080\n",
      "Length of data: 75\n",
      "Epoch 0., Train loss: 2.299\n",
      "Epoch 1., Train loss: 2.298\n",
      "Epoch 2., Train loss: 2.297\n",
      "Epoch 3., Train loss: 2.296\n",
      "Epoch 4., Train loss: 2.295\n",
      "Epoch 5., Train loss: 2.294\n",
      "Epoch 6., Train loss: 2.293\n",
      "Epoch 7., Train loss: 2.292\n",
      "Epoch 8., Train loss: 2.291\n",
      "Epoch 9., Train loss: 2.290\n",
      "Epoch 10., Train loss: 2.289\n",
      "Epoch 11., Train loss: 2.288\n",
      "Epoch 12., Train loss: 2.288\n",
      "Epoch 13., Train loss: 2.287\n",
      "Epoch 14., Train loss: 2.286\n",
      "Epoch 15., Train loss: 2.285\n",
      "Epoch 16., Train loss: 2.284\n",
      "Epoch 17., Train loss: 2.283\n",
      "Epoch 18., Train loss: 2.282\n",
      "Epoch 19., Train loss: 2.281\n",
      "Accuracy: 0.120\n",
      "Length of data: 150\n",
      "Epoch 0., Train loss: 2.321\n",
      "Epoch 1., Train loss: 2.318\n",
      "Epoch 2., Train loss: 2.315\n",
      "Epoch 3., Train loss: 2.312\n",
      "Epoch 4., Train loss: 2.309\n",
      "Epoch 5., Train loss: 2.306\n",
      "Epoch 6., Train loss: 2.303\n",
      "Epoch 7., Train loss: 2.300\n",
      "Epoch 8., Train loss: 2.297\n",
      "Epoch 9., Train loss: 2.294\n",
      "Epoch 10., Train loss: 2.291\n",
      "Epoch 11., Train loss: 2.288\n",
      "Epoch 12., Train loss: 2.285\n",
      "Epoch 13., Train loss: 2.282\n",
      "Epoch 14., Train loss: 2.279\n",
      "Epoch 15., Train loss: 2.276\n",
      "Epoch 16., Train loss: 2.273\n",
      "Epoch 17., Train loss: 2.270\n",
      "Epoch 18., Train loss: 2.267\n",
      "Epoch 19., Train loss: 2.264\n",
      "Accuracy: 0.220\n"
     ]
    },
    {
     "data": {
      "text/plain": [
       "[2.314793348312378, 2.2812861601511636, 2.2644854386647544]"
      ]
     },
     "execution_count": 7,
     "metadata": {},
     "output_type": "execute_result"
    }
   ],
   "source": [
    "LSTM = Network(torch.nn.LSTM)\n",
    "optimizer = torch.optim.SGD(LSTM.parameters(), lr=.001)\n",
    "loss_LSTM = []\n",
    "test_model(LSTM, optimizer, loss_LSTM)\n",
    "loss_LSTM"
   ]
  },
  {
   "cell_type": "markdown",
   "id": "ffbb9711",
   "metadata": {},
   "source": [
    "# GRU"
   ]
  },
  {
   "cell_type": "code",
   "execution_count": 8,
   "id": "19782018",
   "metadata": {},
   "outputs": [
    {
     "name": "stdout",
     "output_type": "stream",
     "text": [
      "Length of data: 25\n",
      "Epoch 0., Train loss: 2.346\n",
      "Epoch 1., Train loss: 2.345\n",
      "Epoch 2., Train loss: 2.344\n",
      "Epoch 3., Train loss: 2.342\n",
      "Epoch 4., Train loss: 2.341\n",
      "Epoch 5., Train loss: 2.340\n",
      "Epoch 6., Train loss: 2.338\n",
      "Epoch 7., Train loss: 2.337\n",
      "Epoch 8., Train loss: 2.335\n",
      "Epoch 9., Train loss: 2.334\n",
      "Epoch 10., Train loss: 2.333\n",
      "Epoch 11., Train loss: 2.331\n",
      "Epoch 12., Train loss: 2.330\n",
      "Epoch 13., Train loss: 2.329\n",
      "Epoch 14., Train loss: 2.327\n",
      "Epoch 15., Train loss: 2.326\n",
      "Epoch 16., Train loss: 2.325\n",
      "Epoch 17., Train loss: 2.323\n",
      "Epoch 18., Train loss: 2.322\n",
      "Epoch 19., Train loss: 2.321\n",
      "Accuracy: 0.080\n",
      "Length of data: 75\n",
      "Epoch 0., Train loss: 2.339\n",
      "Epoch 1., Train loss: 2.337\n",
      "Epoch 2., Train loss: 2.334\n",
      "Epoch 3., Train loss: 2.332\n",
      "Epoch 4., Train loss: 2.329\n",
      "Epoch 5., Train loss: 2.327\n",
      "Epoch 6., Train loss: 2.325\n",
      "Epoch 7., Train loss: 2.322\n",
      "Epoch 8., Train loss: 2.320\n",
      "Epoch 9., Train loss: 2.317\n",
      "Epoch 10., Train loss: 2.315\n",
      "Epoch 11., Train loss: 2.313\n",
      "Epoch 12., Train loss: 2.310\n",
      "Epoch 13., Train loss: 2.308\n",
      "Epoch 14., Train loss: 2.306\n",
      "Epoch 15., Train loss: 2.303\n",
      "Epoch 16., Train loss: 2.301\n",
      "Epoch 17., Train loss: 2.299\n",
      "Epoch 18., Train loss: 2.296\n",
      "Epoch 19., Train loss: 2.294\n",
      "Accuracy: 0.187\n",
      "Length of data: 150\n",
      "Epoch 0., Train loss: 2.347\n",
      "Epoch 1., Train loss: 2.342\n",
      "Epoch 2., Train loss: 2.336\n",
      "Epoch 3., Train loss: 2.331\n",
      "Epoch 4., Train loss: 2.326\n",
      "Epoch 5., Train loss: 2.321\n",
      "Epoch 6., Train loss: 2.315\n",
      "Epoch 7., Train loss: 2.310\n",
      "Epoch 8., Train loss: 2.305\n",
      "Epoch 9., Train loss: 2.300\n",
      "Epoch 10., Train loss: 2.295\n",
      "Epoch 11., Train loss: 2.290\n",
      "Epoch 12., Train loss: 2.285\n",
      "Epoch 13., Train loss: 2.280\n",
      "Epoch 14., Train loss: 2.275\n",
      "Epoch 15., Train loss: 2.270\n",
      "Epoch 16., Train loss: 2.265\n",
      "Epoch 17., Train loss: 2.260\n",
      "Epoch 18., Train loss: 2.255\n",
      "Epoch 19., Train loss: 2.250\n",
      "Accuracy: 0.180\n"
     ]
    },
    {
     "data": {
      "text/plain": [
       "[2.3206324100494387, 2.2941452423731485, 2.2503662586212156]"
      ]
     },
     "execution_count": 8,
     "metadata": {},
     "output_type": "execute_result"
    }
   ],
   "source": [
    "GRU = Network(torch.nn.GRU)\n",
    "optimizer = torch.optim.SGD(GRU.parameters(), lr=.001)\n",
    "loss_GRU = []\n",
    "test_model(GRU, optimizer, loss_GRU)\n",
    "loss_GRU"
   ]
  },
  {
   "cell_type": "markdown",
   "id": "c11e85a8",
   "metadata": {},
   "source": [
    "# Comparison"
   ]
  },
  {
   "cell_type": "code",
   "execution_count": 9,
   "id": "13e45018",
   "metadata": {},
   "outputs": [
    {
     "data": {
      "text/html": [
       "<div>\n",
       "<style scoped>\n",
       "    .dataframe tbody tr th:only-of-type {\n",
       "        vertical-align: middle;\n",
       "    }\n",
       "\n",
       "    .dataframe tbody tr th {\n",
       "        vertical-align: top;\n",
       "    }\n",
       "\n",
       "    .dataframe thead th {\n",
       "        text-align: right;\n",
       "    }\n",
       "</style>\n",
       "<table border=\"1\" class=\"dataframe\">\n",
       "  <thead>\n",
       "    <tr style=\"text-align: right;\">\n",
       "      <th></th>\n",
       "      <th>RNN Loss</th>\n",
       "      <th>LSTM Loss</th>\n",
       "      <th>GRU Loss</th>\n",
       "    </tr>\n",
       "  </thead>\n",
       "  <tbody>\n",
       "    <tr>\n",
       "      <th>25</th>\n",
       "      <td>2.379735</td>\n",
       "      <td>2.314793</td>\n",
       "      <td>2.320632</td>\n",
       "    </tr>\n",
       "    <tr>\n",
       "      <th>75</th>\n",
       "      <td>2.253475</td>\n",
       "      <td>2.281286</td>\n",
       "      <td>2.294145</td>\n",
       "    </tr>\n",
       "    <tr>\n",
       "      <th>150</th>\n",
       "      <td>2.089765</td>\n",
       "      <td>2.264485</td>\n",
       "      <td>2.250366</td>\n",
       "    </tr>\n",
       "  </tbody>\n",
       "</table>\n",
       "</div>"
      ],
      "text/plain": [
       "     RNN Loss  LSTM Loss  GRU Loss\n",
       "25   2.379735   2.314793  2.320632\n",
       "75   2.253475   2.281286  2.294145\n",
       "150  2.089765   2.264485  2.250366"
      ]
     },
     "execution_count": 9,
     "metadata": {},
     "output_type": "execute_result"
    }
   ],
   "source": [
    "data = {\n",
    "    'RNN Loss': loss_RNN,\n",
    "    'LSTM Loss': loss_LSTM,\n",
    "    'GRU Loss' : loss_GRU,\n",
    "\n",
    "}\n",
    "\n",
    "# Преобразуйте словарь в DataFrame\n",
    "df = pd.DataFrame(data)\n",
    "df.index = ['25', '75', '150']\n",
    "df.head()"
   ]
  }
 ],
 "metadata": {
  "kernelspec": {
   "display_name": "Python 3 (ipykernel)",
   "language": "python",
   "name": "python3"
  },
  "language_info": {
   "codemirror_mode": {
    "name": "ipython",
    "version": 3
   },
   "file_extension": ".py",
   "mimetype": "text/x-python",
   "name": "python",
   "nbconvert_exporter": "python",
   "pygments_lexer": "ipython3",
   "version": "3.9.17"
  }
 },
 "nbformat": 4,
 "nbformat_minor": 5
}
